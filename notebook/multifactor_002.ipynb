{
 "cells": [
  {
   "cell_type": "markdown",
   "id": "4cd5a98b-2cf8-48c1-b76c-1dd6150b09f5",
   "metadata": {},
   "source": [
    "多因子期货\n",
    "\n",
    "分钟线预测涨跌"
   ]
  },
  {
   "cell_type": "code",
   "execution_count": 6,
   "id": "b23c21fb-27bb-4875-ba1d-66d6282de2da",
   "metadata": {
    "tags": []
   },
   "outputs": [],
   "source": [
    "import os\n",
    "import sys\n",
    "import glob\n",
    "import pathlib\n",
    "from copy import deepcopy\n",
    "from collections import Counter\n",
    "from itertools import combinations\n",
    "import warnings\n",
    "warnings.filterwarnings(\"ignore\")\n",
    "\n",
    "import pandas as pd\n",
    "import numpy as np\n",
    "import talib\n",
    "from sklearn import preprocessing"
   ]
  },
  {
   "cell_type": "code",
   "execution_count": 37,
   "id": "0565e55b-1c97-4d26-bf25-41173a0b2885",
   "metadata": {
    "tags": []
   },
   "outputs": [
    {
     "name": "stdout",
     "output_type": "stream",
     "text": [
      "(1023, 7)\n"
     ]
    },
    {
     "data": {
      "text/html": [
       "<div>\n",
       "<style scoped>\n",
       "    .dataframe tbody tr th:only-of-type {\n",
       "        vertical-align: middle;\n",
       "    }\n",
       "\n",
       "    .dataframe tbody tr th {\n",
       "        vertical-align: top;\n",
       "    }\n",
       "\n",
       "    .dataframe thead th {\n",
       "        text-align: right;\n",
       "    }\n",
       "</style>\n",
       "<table border=\"1\" class=\"dataframe\">\n",
       "  <thead>\n",
       "    <tr style=\"text-align: right;\">\n",
       "      <th></th>\n",
       "      <th>datetime</th>\n",
       "      <th>open</th>\n",
       "      <th>high</th>\n",
       "      <th>low</th>\n",
       "      <th>close</th>\n",
       "      <th>volume</th>\n",
       "      <th>hold</th>\n",
       "    </tr>\n",
       "  </thead>\n",
       "  <tbody>\n",
       "    <tr>\n",
       "      <th>0</th>\n",
       "      <td>2021-11-11 14:15:00</td>\n",
       "      <td>5016.0</td>\n",
       "      <td>5026.0</td>\n",
       "      <td>5014.0</td>\n",
       "      <td>5020.0</td>\n",
       "      <td>34474</td>\n",
       "      <td>1047491</td>\n",
       "    </tr>\n",
       "    <tr>\n",
       "      <th>1</th>\n",
       "      <td>2021-11-11 14:30:00</td>\n",
       "      <td>5022.0</td>\n",
       "      <td>5022.0</td>\n",
       "      <td>5010.0</td>\n",
       "      <td>5010.0</td>\n",
       "      <td>24191</td>\n",
       "      <td>1052735</td>\n",
       "    </tr>\n",
       "    <tr>\n",
       "      <th>2</th>\n",
       "      <td>2021-11-11 14:45:00</td>\n",
       "      <td>5010.0</td>\n",
       "      <td>5012.0</td>\n",
       "      <td>5004.0</td>\n",
       "      <td>5008.0</td>\n",
       "      <td>45614</td>\n",
       "      <td>1050071</td>\n",
       "    </tr>\n",
       "    <tr>\n",
       "      <th>3</th>\n",
       "      <td>2021-11-11 15:00:00</td>\n",
       "      <td>5010.0</td>\n",
       "      <td>5014.0</td>\n",
       "      <td>5002.0</td>\n",
       "      <td>5014.0</td>\n",
       "      <td>51467</td>\n",
       "      <td>1046447</td>\n",
       "    </tr>\n",
       "    <tr>\n",
       "      <th>4</th>\n",
       "      <td>2021-11-11 21:15:00</td>\n",
       "      <td>4992.0</td>\n",
       "      <td>5010.0</td>\n",
       "      <td>4980.0</td>\n",
       "      <td>5000.0</td>\n",
       "      <td>155800</td>\n",
       "      <td>1055519</td>\n",
       "    </tr>\n",
       "  </tbody>\n",
       "</table>\n",
       "</div>"
      ],
      "text/plain": [
       "              datetime    open    high     low   close  volume     hold\n",
       "0  2021-11-11 14:15:00  5016.0  5026.0  5014.0  5020.0   34474  1047491\n",
       "1  2021-11-11 14:30:00  5022.0  5022.0  5010.0  5010.0   24191  1052735\n",
       "2  2021-11-11 14:45:00  5010.0  5012.0  5004.0  5008.0   45614  1050071\n",
       "3  2021-11-11 15:00:00  5010.0  5014.0  5002.0  5014.0   51467  1046447\n",
       "4  2021-11-11 21:15:00  4992.0  5010.0  4980.0  5000.0  155800  1055519"
      ]
     },
     "execution_count": 37,
     "metadata": {},
     "output_type": "execute_result"
    }
   ],
   "source": [
    "\"\"\" 候选品种\n",
    "TA0 czce    PTA连续\n",
    "MA0\tczce\t甲醇连续\n",
    "RM0\tczce\t菜粕连续\n",
    "C0  dce     玉米连续\n",
    "\"\"\"\n",
    "import akshare as ak\n",
    "\n",
    "ta_df = ak.futures_zh_minute_sina(symbol=\"TA2201\", period=\"15\")\n",
    "print(ta_df.shape)\n",
    "ta_df.head()"
   ]
  },
  {
   "cell_type": "code",
   "execution_count": 38,
   "id": "985967cd-7715-45eb-bc5c-24d7b9a882c2",
   "metadata": {},
   "outputs": [
    {
     "data": {
      "text/plain": [
       "(1023, 7)"
      ]
     },
     "execution_count": 38,
     "metadata": {},
     "output_type": "execute_result"
    }
   ],
   "source": [
    "ta_df.shape"
   ]
  },
  {
   "cell_type": "code",
   "execution_count": 39,
   "id": "fec38609-b2d4-4c7a-be56-f5d22378c2e9",
   "metadata": {},
   "outputs": [
    {
     "data": {
      "text/html": [
       "<div>\n",
       "<style scoped>\n",
       "    .dataframe tbody tr th:only-of-type {\n",
       "        vertical-align: middle;\n",
       "    }\n",
       "\n",
       "    .dataframe tbody tr th {\n",
       "        vertical-align: top;\n",
       "    }\n",
       "\n",
       "    .dataframe thead th {\n",
       "        text-align: right;\n",
       "    }\n",
       "</style>\n",
       "<table border=\"1\" class=\"dataframe\">\n",
       "  <thead>\n",
       "    <tr style=\"text-align: right;\">\n",
       "      <th></th>\n",
       "      <th>datetime</th>\n",
       "      <th>open</th>\n",
       "      <th>high</th>\n",
       "      <th>low</th>\n",
       "      <th>close</th>\n",
       "      <th>volume</th>\n",
       "      <th>hold</th>\n",
       "    </tr>\n",
       "  </thead>\n",
       "  <tbody>\n",
       "    <tr>\n",
       "      <th>0</th>\n",
       "      <td>2021-11-11 14:15:00</td>\n",
       "      <td>5016.0</td>\n",
       "      <td>5026.0</td>\n",
       "      <td>5014.0</td>\n",
       "      <td>5020.0</td>\n",
       "      <td>34474</td>\n",
       "      <td>1047491</td>\n",
       "    </tr>\n",
       "    <tr>\n",
       "      <th>1</th>\n",
       "      <td>2021-11-11 14:30:00</td>\n",
       "      <td>5022.0</td>\n",
       "      <td>5022.0</td>\n",
       "      <td>5010.0</td>\n",
       "      <td>5010.0</td>\n",
       "      <td>24191</td>\n",
       "      <td>1052735</td>\n",
       "    </tr>\n",
       "    <tr>\n",
       "      <th>2</th>\n",
       "      <td>2021-11-11 14:45:00</td>\n",
       "      <td>5010.0</td>\n",
       "      <td>5012.0</td>\n",
       "      <td>5004.0</td>\n",
       "      <td>5008.0</td>\n",
       "      <td>45614</td>\n",
       "      <td>1050071</td>\n",
       "    </tr>\n",
       "    <tr>\n",
       "      <th>3</th>\n",
       "      <td>2021-11-11 15:00:00</td>\n",
       "      <td>5010.0</td>\n",
       "      <td>5014.0</td>\n",
       "      <td>5002.0</td>\n",
       "      <td>5014.0</td>\n",
       "      <td>51467</td>\n",
       "      <td>1046447</td>\n",
       "    </tr>\n",
       "    <tr>\n",
       "      <th>4</th>\n",
       "      <td>2021-11-11 21:15:00</td>\n",
       "      <td>4992.0</td>\n",
       "      <td>5010.0</td>\n",
       "      <td>4980.0</td>\n",
       "      <td>5000.0</td>\n",
       "      <td>155800</td>\n",
       "      <td>1055519</td>\n",
       "    </tr>\n",
       "  </tbody>\n",
       "</table>\n",
       "</div>"
      ],
      "text/plain": [
       "              datetime    open    high     low   close  volume     hold\n",
       "0  2021-11-11 14:15:00  5016.0  5026.0  5014.0  5020.0   34474  1047491\n",
       "1  2021-11-11 14:30:00  5022.0  5022.0  5010.0  5010.0   24191  1052735\n",
       "2  2021-11-11 14:45:00  5010.0  5012.0  5004.0  5008.0   45614  1050071\n",
       "3  2021-11-11 15:00:00  5010.0  5014.0  5002.0  5014.0   51467  1046447\n",
       "4  2021-11-11 21:15:00  4992.0  5010.0  4980.0  5000.0  155800  1055519"
      ]
     },
     "execution_count": 39,
     "metadata": {},
     "output_type": "execute_result"
    }
   ],
   "source": [
    "ta_df.head()"
   ]
  },
  {
   "cell_type": "code",
   "execution_count": 17,
   "id": "711b89cd-1940-4bbb-8841-a5065c5b0803",
   "metadata": {},
   "outputs": [],
   "source": []
  },
  {
   "cell_type": "markdown",
   "id": "efa549d4-831d-4dea-b948-8183e0d8b2b7",
   "metadata": {
    "tags": []
   },
   "source": [
    "## feature"
   ]
  },
  {
   "cell_type": "code",
   "execution_count": 73,
   "id": "e9cee8dd-b37b-4660-a86e-1337a44008b4",
   "metadata": {},
   "outputs": [],
   "source": [
    "FUTURE = 5\n",
    "TASK = \"clf\"\n",
    "\n",
    "def get_ma_feature(df):\n",
    "    periods = np.arange(3,25)\n",
    "    for i in periods:\n",
    "        # df[f\"ma{i}\"] = talib.SMA(df[\"close\"], timeperiod=i)\n",
    "        ma = talib.EMA(df[\"close\"], timeperiod=i)\n",
    "        # df[f\"kama{i}\"] = talib.KAMA(df[\"close\"], timeperiod=i)\n",
    "        # df[f\"open_ma{i}\"] = talib.EMA(df[\"open\"], timeperiod=i)\n",
    "        df[f\"ma{i}_close\"] = ma - df[\"close\"]\n",
    "        \n",
    "    # combines = combinations(periods, 2)\n",
    "    # for i in combines:\n",
    "    #     if i[0] < i[1]:\n",
    "    #         df[f\"ma{i[0]}-{i[1]}\"] = df[f\"ma{i[0]}\"] - df[f\"ma{i[1]}\"]\n",
    "            \n",
    "def get_add_feature(df):\n",
    "    low, high, close = df[\"low\"], df[\"high\"], df[\"close\"]\n",
    "\n",
    "    # Support and resistance\n",
    "    periods = np.arange(3,25)\n",
    "    for i in periods:\n",
    "        df[f\"support_{i}\"] = df[\"close\"].rolling(window=i).min() - df[\"close\"]\n",
    "        df[f\"resistance_{i}\"] = df[\"close\"].rolling(window=i).max() - df[\"close\"]\n",
    "        df[f\"shock_{i}\"] = df[\"close\"].rolling(window=i).std() - df[\"close\"]\n",
    "        \n",
    "        df[f\"up_count_{i}\"] = (df[\"close\"] - df[\"close\"].shift(1)).apply(lambda x:1 if x>0 else 0)\\\n",
    "        .rolling(window=i).apply(lambda x:Counter(x)[1]) / i\n",
    "        \n",
    "        df[f\"momentum_{i}\"] = df[\"close\"] / df[\"close\"].shift(i) - 1\n",
    "\n",
    "\n",
    "def get_label(close, avg_close, std_close):\n",
    "    if (avg_close > close+std_close):\n",
    "        return 1\n",
    "    elif (avg_close < close-std_close):\n",
    "        return 0\n",
    "    else:\n",
    "        return 2\n",
    "\n",
    "def get_feature_df(df):\n",
    "    df = deepcopy(df)\n",
    "        \n",
    "    assert TASK in (\"clf\",\"reg\")\n",
    "    # calculate up/down\n",
    "    if TASK==\"clf\":\n",
    "        window = FUTURE\n",
    "        avg_close = df[\"close\"].rolling(window=window).mean().shift(-window)\n",
    "        # std_close = df[\"close\"].rolling(window=window).std().shift(-window)\n",
    "        # future_df = pd.concat([df[\"close\"], avg_close, std_close], axis=1)\n",
    "        # future_df.columns = [\"close\",\"avg_close\",\"std_close\"]\n",
    "        # df[\"label\"] = future_df.apply(lambda x: get_label(x.close,x.avg_close,x.std_close), axis=1)\n",
    "        df[\"label\"] = (avg_close - df[\"close\"]).apply(lambda x: 1 if x>0 else 0)\n",
    "    if TASK==\"reg\":\n",
    "        df[\"label\"] = close_change\n",
    "    \n",
    "    # calculate factor\n",
    "    get_ma_feature(df)\n",
    "    get_add_feature(df)\n",
    "    \n",
    "    # drop anomaly value\n",
    "    df = df.dropna().reset_index(drop=True)\n",
    "    df = df.drop(0, axis=0).reset_index(drop=True)\n",
    "    df = df.drop([len(df)-1], axis=0).reset_index(drop=True)\n",
    "    return df\n",
    "\n",
    "def get_feature_label(df):\n",
    "    feature_df = df.drop([\"datetime\",\"open\",\"high\",\"low\",\"close\",\"volume\",\"hold\",\"label\"],axis=1)\n",
    "    # feature_df = (feature_df-feature_df.min())/(feature_df.max()-feature_df.min())\n",
    "    feature_df = (feature_df-feature_df.mean())/(feature_df.std())\n",
    "    features = feature_df.values\n",
    "    labels = df[\"label\"].values\n",
    "    return features, labels"
   ]
  },
  {
   "cell_type": "code",
   "execution_count": 74,
   "id": "b6826435-3406-446b-9e4a-ab35fe06514f",
   "metadata": {},
   "outputs": [
    {
     "data": {
      "text/html": [
       "<div>\n",
       "<style scoped>\n",
       "    .dataframe tbody tr th:only-of-type {\n",
       "        vertical-align: middle;\n",
       "    }\n",
       "\n",
       "    .dataframe tbody tr th {\n",
       "        vertical-align: top;\n",
       "    }\n",
       "\n",
       "    .dataframe thead th {\n",
       "        text-align: right;\n",
       "    }\n",
       "</style>\n",
       "<table border=\"1\" class=\"dataframe\">\n",
       "  <thead>\n",
       "    <tr style=\"text-align: right;\">\n",
       "      <th></th>\n",
       "      <th>datetime</th>\n",
       "      <th>open</th>\n",
       "      <th>high</th>\n",
       "      <th>low</th>\n",
       "      <th>close</th>\n",
       "      <th>volume</th>\n",
       "      <th>hold</th>\n",
       "      <th>label</th>\n",
       "      <th>ma3_close</th>\n",
       "      <th>ma4_close</th>\n",
       "      <th>...</th>\n",
       "      <th>support_23</th>\n",
       "      <th>resistance_23</th>\n",
       "      <th>shock_23</th>\n",
       "      <th>up_count_23</th>\n",
       "      <th>momentum_23</th>\n",
       "      <th>support_24</th>\n",
       "      <th>resistance_24</th>\n",
       "      <th>shock_24</th>\n",
       "      <th>up_count_24</th>\n",
       "      <th>momentum_24</th>\n",
       "    </tr>\n",
       "  </thead>\n",
       "  <tbody>\n",
       "    <tr>\n",
       "      <th>0</th>\n",
       "      <td>2021-11-12 14:45:00</td>\n",
       "      <td>4990.0</td>\n",
       "      <td>5000.0</td>\n",
       "      <td>4986.0</td>\n",
       "      <td>4994.0</td>\n",
       "      <td>27234</td>\n",
       "      <td>1049279</td>\n",
       "      <td>0</td>\n",
       "      <td>0.834992</td>\n",
       "      <td>1.533070</td>\n",
       "      <td>...</td>\n",
       "      <td>-12.0</td>\n",
       "      <td>32.0</td>\n",
       "      <td>-4982.416995</td>\n",
       "      <td>0.521739</td>\n",
       "      <td>-0.002796</td>\n",
       "      <td>-12.0</td>\n",
       "      <td>32.0</td>\n",
       "      <td>-4982.648246</td>\n",
       "      <td>0.500000</td>\n",
       "      <td>-0.003194</td>\n",
       "    </tr>\n",
       "    <tr>\n",
       "      <th>1</th>\n",
       "      <td>2021-11-12 15:00:00</td>\n",
       "      <td>4994.0</td>\n",
       "      <td>5004.0</td>\n",
       "      <td>4994.0</td>\n",
       "      <td>4998.0</td>\n",
       "      <td>42782</td>\n",
       "      <td>1040233</td>\n",
       "      <td>0</td>\n",
       "      <td>-1.582504</td>\n",
       "      <td>-1.480158</td>\n",
       "      <td>...</td>\n",
       "      <td>-16.0</td>\n",
       "      <td>28.0</td>\n",
       "      <td>-4986.537740</td>\n",
       "      <td>0.521739</td>\n",
       "      <td>-0.003191</td>\n",
       "      <td>-16.0</td>\n",
       "      <td>28.0</td>\n",
       "      <td>-4986.595704</td>\n",
       "      <td>0.541667</td>\n",
       "      <td>-0.001997</td>\n",
       "    </tr>\n",
       "    <tr>\n",
       "      <th>2</th>\n",
       "      <td>2021-11-12 21:15:00</td>\n",
       "      <td>4960.0</td>\n",
       "      <td>4984.0</td>\n",
       "      <td>4944.0</td>\n",
       "      <td>4974.0</td>\n",
       "      <td>154382</td>\n",
       "      <td>1048472</td>\n",
       "      <td>0</td>\n",
       "      <td>11.208748</td>\n",
       "      <td>13.511905</td>\n",
       "      <td>...</td>\n",
       "      <td>0.0</td>\n",
       "      <td>52.0</td>\n",
       "      <td>-4960.976458</td>\n",
       "      <td>0.521739</td>\n",
       "      <td>-0.005200</td>\n",
       "      <td>0.0</td>\n",
       "      <td>52.0</td>\n",
       "      <td>-4961.251599</td>\n",
       "      <td>0.500000</td>\n",
       "      <td>-0.007978</td>\n",
       "    </tr>\n",
       "    <tr>\n",
       "      <th>3</th>\n",
       "      <td>2021-11-12 21:30:00</td>\n",
       "      <td>4976.0</td>\n",
       "      <td>5006.0</td>\n",
       "      <td>4976.0</td>\n",
       "      <td>4994.0</td>\n",
       "      <td>87234</td>\n",
       "      <td>1048426</td>\n",
       "      <td>0</td>\n",
       "      <td>-4.395626</td>\n",
       "      <td>-3.892857</td>\n",
       "      <td>...</td>\n",
       "      <td>-20.0</td>\n",
       "      <td>32.0</td>\n",
       "      <td>-4981.614876</td>\n",
       "      <td>0.565217</td>\n",
       "      <td>0.002409</td>\n",
       "      <td>-20.0</td>\n",
       "      <td>32.0</td>\n",
       "      <td>-4981.142081</td>\n",
       "      <td>0.541667</td>\n",
       "      <td>-0.001200</td>\n",
       "    </tr>\n",
       "    <tr>\n",
       "      <th>4</th>\n",
       "      <td>2021-11-12 21:45:00</td>\n",
       "      <td>4996.0</td>\n",
       "      <td>5000.0</td>\n",
       "      <td>4974.0</td>\n",
       "      <td>4980.0</td>\n",
       "      <td>44989</td>\n",
       "      <td>1051284</td>\n",
       "      <td>0</td>\n",
       "      <td>4.802187</td>\n",
       "      <td>6.064286</td>\n",
       "      <td>...</td>\n",
       "      <td>-6.0</td>\n",
       "      <td>46.0</td>\n",
       "      <td>-4966.826785</td>\n",
       "      <td>0.521739</td>\n",
       "      <td>-0.002803</td>\n",
       "      <td>-6.0</td>\n",
       "      <td>46.0</td>\n",
       "      <td>-4966.999443</td>\n",
       "      <td>0.541667</td>\n",
       "      <td>-0.000401</td>\n",
       "    </tr>\n",
       "  </tbody>\n",
       "</table>\n",
       "<p>5 rows × 140 columns</p>\n",
       "</div>"
      ],
      "text/plain": [
       "              datetime    open    high     low   close  volume     hold  \\\n",
       "0  2021-11-12 14:45:00  4990.0  5000.0  4986.0  4994.0   27234  1049279   \n",
       "1  2021-11-12 15:00:00  4994.0  5004.0  4994.0  4998.0   42782  1040233   \n",
       "2  2021-11-12 21:15:00  4960.0  4984.0  4944.0  4974.0  154382  1048472   \n",
       "3  2021-11-12 21:30:00  4976.0  5006.0  4976.0  4994.0   87234  1048426   \n",
       "4  2021-11-12 21:45:00  4996.0  5000.0  4974.0  4980.0   44989  1051284   \n",
       "\n",
       "   label  ma3_close  ma4_close  ...  support_23  resistance_23     shock_23  \\\n",
       "0      0   0.834992   1.533070  ...       -12.0           32.0 -4982.416995   \n",
       "1      0  -1.582504  -1.480158  ...       -16.0           28.0 -4986.537740   \n",
       "2      0  11.208748  13.511905  ...         0.0           52.0 -4960.976458   \n",
       "3      0  -4.395626  -3.892857  ...       -20.0           32.0 -4981.614876   \n",
       "4      0   4.802187   6.064286  ...        -6.0           46.0 -4966.826785   \n",
       "\n",
       "   up_count_23  momentum_23  support_24  resistance_24     shock_24  \\\n",
       "0     0.521739    -0.002796       -12.0           32.0 -4982.648246   \n",
       "1     0.521739    -0.003191       -16.0           28.0 -4986.595704   \n",
       "2     0.521739    -0.005200         0.0           52.0 -4961.251599   \n",
       "3     0.565217     0.002409       -20.0           32.0 -4981.142081   \n",
       "4     0.521739    -0.002803        -6.0           46.0 -4966.999443   \n",
       "\n",
       "   up_count_24  momentum_24  \n",
       "0     0.500000    -0.003194  \n",
       "1     0.541667    -0.001997  \n",
       "2     0.500000    -0.007978  \n",
       "3     0.541667    -0.001200  \n",
       "4     0.541667    -0.000401  \n",
       "\n",
       "[5 rows x 140 columns]"
      ]
     },
     "execution_count": 74,
     "metadata": {},
     "output_type": "execute_result"
    }
   ],
   "source": [
    "get_feature_df(ta_df).head()"
   ]
  },
  {
   "cell_type": "code",
   "execution_count": 66,
   "id": "28b215dc-6117-4f97-b8fa-db7d38529368",
   "metadata": {},
   "outputs": [
    {
     "data": {
      "text/html": [
       "<div>\n",
       "<style scoped>\n",
       "    .dataframe tbody tr th:only-of-type {\n",
       "        vertical-align: middle;\n",
       "    }\n",
       "\n",
       "    .dataframe tbody tr th {\n",
       "        vertical-align: top;\n",
       "    }\n",
       "\n",
       "    .dataframe thead th {\n",
       "        text-align: right;\n",
       "    }\n",
       "</style>\n",
       "<table border=\"1\" class=\"dataframe\">\n",
       "  <thead>\n",
       "    <tr style=\"text-align: right;\">\n",
       "      <th></th>\n",
       "      <th>datetime</th>\n",
       "      <th>open</th>\n",
       "      <th>high</th>\n",
       "      <th>low</th>\n",
       "      <th>close</th>\n",
       "      <th>volume</th>\n",
       "      <th>hold</th>\n",
       "    </tr>\n",
       "  </thead>\n",
       "  <tbody>\n",
       "    <tr>\n",
       "      <th>1018</th>\n",
       "      <td>2022-01-17 14:00:00</td>\n",
       "      <td>5242.0</td>\n",
       "      <td>5242.0</td>\n",
       "      <td>5242.0</td>\n",
       "      <td>5242.0</td>\n",
       "      <td>1</td>\n",
       "      <td>19062</td>\n",
       "    </tr>\n",
       "    <tr>\n",
       "      <th>1019</th>\n",
       "      <td>2022-01-17 14:15:00</td>\n",
       "      <td>5258.0</td>\n",
       "      <td>5258.0</td>\n",
       "      <td>5258.0</td>\n",
       "      <td>5258.0</td>\n",
       "      <td>1</td>\n",
       "      <td>19062</td>\n",
       "    </tr>\n",
       "    <tr>\n",
       "      <th>1020</th>\n",
       "      <td>2022-01-17 14:30:00</td>\n",
       "      <td>5258.0</td>\n",
       "      <td>5258.0</td>\n",
       "      <td>5258.0</td>\n",
       "      <td>5258.0</td>\n",
       "      <td>1</td>\n",
       "      <td>19062</td>\n",
       "    </tr>\n",
       "    <tr>\n",
       "      <th>1021</th>\n",
       "      <td>2022-01-17 14:45:00</td>\n",
       "      <td>5260.0</td>\n",
       "      <td>5260.0</td>\n",
       "      <td>5260.0</td>\n",
       "      <td>5260.0</td>\n",
       "      <td>1</td>\n",
       "      <td>19062</td>\n",
       "    </tr>\n",
       "    <tr>\n",
       "      <th>1022</th>\n",
       "      <td>2022-01-17 15:00:00</td>\n",
       "      <td>5260.0</td>\n",
       "      <td>5278.0</td>\n",
       "      <td>5260.0</td>\n",
       "      <td>5278.0</td>\n",
       "      <td>2</td>\n",
       "      <td>19062</td>\n",
       "    </tr>\n",
       "  </tbody>\n",
       "</table>\n",
       "</div>"
      ],
      "text/plain": [
       "                 datetime    open    high     low   close  volume   hold\n",
       "1018  2022-01-17 14:00:00  5242.0  5242.0  5242.0  5242.0       1  19062\n",
       "1019  2022-01-17 14:15:00  5258.0  5258.0  5258.0  5258.0       1  19062\n",
       "1020  2022-01-17 14:30:00  5258.0  5258.0  5258.0  5258.0       1  19062\n",
       "1021  2022-01-17 14:45:00  5260.0  5260.0  5260.0  5260.0       1  19062\n",
       "1022  2022-01-17 15:00:00  5260.0  5278.0  5260.0  5278.0       2  19062"
      ]
     },
     "execution_count": 66,
     "metadata": {},
     "output_type": "execute_result"
    }
   ],
   "source": [
    "df.tail()"
   ]
  },
  {
   "cell_type": "markdown",
   "id": "47577424-7ab5-4eb5-9038-8f06eba7250d",
   "metadata": {
    "tags": []
   },
   "source": [
    "## classification"
   ]
  },
  {
   "cell_type": "code",
   "execution_count": 75,
   "id": "c11d0223-e63f-41ae-b96a-f06fb8ec9ceb",
   "metadata": {},
   "outputs": [],
   "source": [
    "FUTURE = 10\n",
    "TASK = \"clf\""
   ]
  },
  {
   "cell_type": "code",
   "execution_count": 76,
   "id": "f15967e7-1271-4837-aabd-a0d54770188c",
   "metadata": {
    "tags": []
   },
   "outputs": [
    {
     "name": "stdout",
     "output_type": "stream",
     "text": [
      "885 86 165 (885, 132)\n"
     ]
    }
   ],
   "source": [
    "train_X, train_Y, valid_X, valid_Y, test_X, test_Y = [],[],[],[],[],[]\n",
    "\n",
    "# df = dfs[\"TA0.czce\"]\n",
    "df = ta_df\n",
    "# df = get_feature_df(df)\n",
    "train_df = df[df[\"datetime\"] < '2022-01-10'].reset_index(drop=True)\n",
    "valid_df = df[(df[\"datetime\"] > \"2022-01-10\") & (df[\"datetime\"] < \"2022-02-01\")].reset_index(drop=True)\n",
    "test_df = df[df[\"datetime\"] > \"2022-01-01\"].reset_index(drop=True)\n",
    "\n",
    "train_data = get_feature_label(get_feature_df(train_df))\n",
    "valid_data = get_feature_label(get_feature_df(valid_df))\n",
    "test_data = get_feature_label(get_feature_df(test_df))\n",
    "\n",
    "print(len(train_data[0]), len(valid_data[0]), len(test_data[0]), train_data[0].shape)"
   ]
  },
  {
   "cell_type": "markdown",
   "id": "afacf49f-8b15-4bd4-b533-f218bf3c90e5",
   "metadata": {
    "tags": []
   },
   "source": [
    "### fit"
   ]
  },
  {
   "cell_type": "code",
   "execution_count": 70,
   "id": "1016d0aa-8d02-459a-8807-696b089eddde",
   "metadata": {},
   "outputs": [],
   "source": [
    "from sklearn.metrics import precision_score, recall_score, classification_report, confusion_matrix, accuracy_score"
   ]
  },
  {
   "cell_type": "code",
   "execution_count": 77,
   "id": "489a3e27-a32a-494c-ae39-973cf89329a6",
   "metadata": {},
   "outputs": [
    {
     "name": "stdout",
     "output_type": "stream",
     "text": [
      "[[233 183]\n",
      " [132 337]]\n",
      "              precision    recall  f1-score   support\n",
      "\n",
      "           0       0.64      0.56      0.60       416\n",
      "           1       0.65      0.72      0.68       469\n",
      "\n",
      "    accuracy                           0.64       885\n",
      "   macro avg       0.64      0.64      0.64       885\n",
      "weighted avg       0.64      0.64      0.64       885\n",
      "\n"
     ]
    },
    {
     "data": {
      "text/plain": [
       "0.6440677966101694"
      ]
     },
     "execution_count": 77,
     "metadata": {},
     "output_type": "execute_result"
    }
   ],
   "source": [
    "from sklearn.linear_model import LogisticRegression\n",
    "clf = LogisticRegression(random_state=0)\n",
    "clf.fit(train_data[0], train_data[1])\n",
    "# clf.predict(valid_data[0]), valid_data[1]\n",
    "\n",
    "y_true, y_pred = train_data[1], clf.predict(train_data[0])\n",
    "print(confusion_matrix(y_true, y_pred))\n",
    "print(classification_report(y_true, y_pred))\n",
    "accuracy_score(clf.predict(train_data[0]), train_data[1])\n"
   ]
  },
  {
   "cell_type": "code",
   "execution_count": 78,
   "id": "96d034a7-1990-456a-b3f5-8cd963b22d73",
   "metadata": {},
   "outputs": [
    {
     "name": "stdout",
     "output_type": "stream",
     "text": [
      "[[17 27]\n",
      " [21 21]]\n",
      "              precision    recall  f1-score   support\n",
      "\n",
      "           0       0.45      0.39      0.41        44\n",
      "           1       0.44      0.50      0.47        42\n",
      "\n",
      "    accuracy                           0.44        86\n",
      "   macro avg       0.44      0.44      0.44        86\n",
      "weighted avg       0.44      0.44      0.44        86\n",
      "\n"
     ]
    },
    {
     "data": {
      "text/plain": [
       "0.4418604651162791"
      ]
     },
     "execution_count": 78,
     "metadata": {},
     "output_type": "execute_result"
    }
   ],
   "source": [
    "\n",
    "y_true, y_pred = valid_data[1], clf.predict(valid_data[0])\n",
    "print(confusion_matrix(y_true, y_pred))\n",
    "print(classification_report(y_true, y_pred))\n",
    "accuracy_score(clf.predict(valid_data[0]), valid_data[1])"
   ]
  },
  {
   "cell_type": "code",
   "execution_count": 62,
   "id": "28a34679-cdde-4dd9-bc80-3726127e7e7a",
   "metadata": {},
   "outputs": [
    {
     "name": "stdout",
     "output_type": "stream",
     "text": [
      "[[ 47   0 170]\n",
      " [  3  26 253]\n",
      " [  2   0 385]]\n",
      "              precision    recall  f1-score   support\n",
      "\n",
      "           0       0.90      0.22      0.35       217\n",
      "           1       1.00      0.09      0.17       282\n",
      "           2       0.48      0.99      0.64       387\n",
      "\n",
      "    accuracy                           0.52       886\n",
      "   macro avg       0.79      0.43      0.39       886\n",
      "weighted avg       0.75      0.52      0.42       886\n",
      "\n"
     ]
    },
    {
     "data": {
      "text/plain": [
       "0.5169300225733634"
      ]
     },
     "execution_count": 62,
     "metadata": {},
     "output_type": "execute_result"
    }
   ],
   "source": [
    "from sklearn.ensemble import RandomForestClassifier\n",
    "\n",
    "clf = RandomForestClassifier(n_estimators=100,max_depth=3, random_state=0)\n",
    "clf.fit(train_data[0], train_data[1])\n",
    "\n",
    "y_true, y_pred = train_data[1], clf.predict(train_data[0])\n",
    "print(confusion_matrix(y_true, y_pred))\n",
    "print(classification_report(y_true, y_pred))\n",
    "accuracy_score(clf.predict(train_data[0]), train_data[1])\n"
   ]
  },
  {
   "cell_type": "code",
   "execution_count": 63,
   "id": "5c9049c5-a3b9-492c-92e3-3d19ceecdf9f",
   "metadata": {},
   "outputs": [
    {
     "name": "stdout",
     "output_type": "stream",
     "text": [
      "[[ 1  0 16]\n",
      " [ 0  5 23]\n",
      " [ 1  1 40]]\n",
      "              precision    recall  f1-score   support\n",
      "\n",
      "           0       0.50      0.06      0.11        17\n",
      "           1       0.83      0.18      0.29        28\n",
      "           2       0.51      0.95      0.66        42\n",
      "\n",
      "    accuracy                           0.53        87\n",
      "   macro avg       0.61      0.40      0.35        87\n",
      "weighted avg       0.61      0.53      0.43        87\n",
      "\n"
     ]
    },
    {
     "data": {
      "text/plain": [
       "0.5287356321839081"
      ]
     },
     "execution_count": 63,
     "metadata": {},
     "output_type": "execute_result"
    }
   ],
   "source": [
    "y_true, y_pred = valid_data[1], clf.predict(valid_data[0])\n",
    "print(confusion_matrix(y_true, y_pred))\n",
    "print(classification_report(y_true, y_pred))\n",
    "accuracy_score(clf.predict(valid_data[0]), valid_data[1])"
   ]
  },
  {
   "cell_type": "code",
   "execution_count": 29,
   "id": "79ff05a6-15ab-4915-b539-9f8ea8dbd1be",
   "metadata": {},
   "outputs": [
    {
     "name": "stdout",
     "output_type": "stream",
     "text": [
      "[[222  80]\n",
      " [ 29 327]]\n",
      "              precision    recall  f1-score   support\n",
      "\n",
      "           0       0.88      0.74      0.80       302\n",
      "           1       0.80      0.92      0.86       356\n",
      "\n",
      "    accuracy                           0.83       658\n",
      "   macro avg       0.84      0.83      0.83       658\n",
      "weighted avg       0.84      0.83      0.83       658\n",
      "\n"
     ]
    },
    {
     "data": {
      "text/plain": [
       "0.8343465045592705"
      ]
     },
     "execution_count": 29,
     "metadata": {},
     "output_type": "execute_result"
    }
   ],
   "source": [
    "import xgboost as xgb\n",
    "\n",
    "clf = xgb.XGBClassifier(n_estimators=100, max_depth=2, learning_rate=0.1)\n",
    "clf.fit(train_data[0], train_data[1])\n",
    "\n",
    "y_true, y_pred = train_data[1], clf.predict(train_data[0])\n",
    "print(confusion_matrix(y_true, y_pred))\n",
    "print(classification_report(y_true, y_pred))\n",
    "accuracy_score(clf.predict(train_data[0]), train_data[1])\n"
   ]
  },
  {
   "cell_type": "code",
   "execution_count": 30,
   "id": "2a84e62c-0c8c-4801-b521-acf83c4fefad",
   "metadata": {},
   "outputs": [
    {
     "name": "stdout",
     "output_type": "stream",
     "text": [
      "[[ 58 111]\n",
      " [ 45 101]]\n",
      "              precision    recall  f1-score   support\n",
      "\n",
      "           0       0.56      0.34      0.43       169\n",
      "           1       0.48      0.69      0.56       146\n",
      "\n",
      "    accuracy                           0.50       315\n",
      "   macro avg       0.52      0.52      0.50       315\n",
      "weighted avg       0.52      0.50      0.49       315\n",
      "\n"
     ]
    },
    {
     "data": {
      "text/plain": [
       "0.5047619047619047"
      ]
     },
     "execution_count": 30,
     "metadata": {},
     "output_type": "execute_result"
    }
   ],
   "source": [
    "\n",
    "y_true, y_pred = valid_data[1], clf.predict(valid_data[0])\n",
    "print(confusion_matrix(y_true, y_pred))\n",
    "print(classification_report(y_true, y_pred))\n",
    "accuracy_score(clf.predict(valid_data[0]), valid_data[1])"
   ]
  },
  {
   "cell_type": "code",
   "execution_count": null,
   "id": "aeb7c3c1-eb05-4dae-9c50-0d529edc97b9",
   "metadata": {},
   "outputs": [],
   "source": []
  },
  {
   "cell_type": "code",
   "execution_count": 286,
   "id": "ac3a2424-92de-4f25-8fed-c39174437e5b",
   "metadata": {},
   "outputs": [],
   "source": [
    "import pickle\n",
    "with open(\"D:/quant/checkpoint/clf_ta.pickle\",\"wb\") as f:\n",
    "    pickle.dump(clf, f)"
   ]
  },
  {
   "cell_type": "code",
   "execution_count": 15,
   "id": "4d8af401-2d75-4516-9b2a-12482ec803ca",
   "metadata": {},
   "outputs": [
    {
     "data": {
      "text/plain": [
       "array([0, 0, 0, 0, 0, 0, 0, 0, 0, 0, 0, 0, 0, 0, 0, 0, 0, 0, 0, 0, 0, 0,\n",
       "       0, 1, 1, 1, 1, 1, 1, 1, 1, 1, 1, 1, 1, 1, 1, 1, 1, 0, 0, 0, 0, 0,\n",
       "       0, 0, 0, 0, 0, 0, 0, 0, 0, 0, 0, 0, 0, 0, 0, 0, 0, 0, 0, 0, 0, 1,\n",
       "       1, 1, 1, 1, 1, 1, 1, 1, 1, 1, 1, 1, 1, 0, 1, 1, 1, 1, 0, 0, 0, 0,\n",
       "       1], dtype=int64)"
      ]
     },
     "execution_count": 15,
     "metadata": {},
     "output_type": "execute_result"
    }
   ],
   "source": [
    "clf.predict(valid_data[0])"
   ]
  },
  {
   "cell_type": "code",
   "execution_count": 16,
   "id": "e3b2e77a-1881-4be5-a032-a69e16f3aa9e",
   "metadata": {},
   "outputs": [
    {
     "data": {
      "text/plain": [
       "array([1, 1, 1, 0, 0, 0, 0, 0, 0, 0, 1, 0, 0, 0, 1, 1, 1, 1, 1, 1, 1, 1,\n",
       "       1, 1, 1, 1, 1, 1, 1, 1, 0, 1, 1, 1, 0, 0, 0, 0, 0, 0, 0, 0, 0, 0,\n",
       "       0, 0, 0, 0, 1, 1, 0, 0, 0, 0, 0, 0, 0, 0, 1, 0, 0, 0, 0, 0, 0, 0,\n",
       "       1, 1, 1, 1, 1, 1, 1, 0, 1, 0, 0, 1, 1, 1, 1, 1, 1, 1, 1, 0, 0, 0,\n",
       "       0], dtype=int64)"
      ]
     },
     "execution_count": 16,
     "metadata": {},
     "output_type": "execute_result"
    }
   ],
   "source": [
    "valid_data[1]"
   ]
  },
  {
   "cell_type": "markdown",
   "id": "c904bd2c-d7e5-47fb-a252-5024961f25b3",
   "metadata": {
    "jp-MarkdownHeadingCollapsed": true,
    "tags": []
   },
   "source": [
    "## regression"
   ]
  },
  {
   "cell_type": "code",
   "execution_count": 450,
   "id": "069f23eb-9fa0-4ad2-bc30-a60828e2724e",
   "metadata": {},
   "outputs": [],
   "source": [
    "TASK = \"reg\""
   ]
  },
  {
   "cell_type": "code",
   "execution_count": 451,
   "id": "a052653c-30be-423c-8e43-36fb3ad2a075",
   "metadata": {},
   "outputs": [
    {
     "name": "stdout",
     "output_type": "stream",
     "text": [
      "1544 89 104 (1544, 57)\n"
     ]
    }
   ],
   "source": [
    "train_X, train_Y, valid_X, valid_Y, test_X, test_Y = [],[],[],[],[],[]\n",
    "\n",
    "df = dfs[\"MA0.czce\"]\n",
    "# df = get_feature_df(df)\n",
    "train_df = df[df[\"datetime\"] < '2021-07-01'].reset_index(drop=True)\n",
    "valid_df = df[(df[\"datetime\"] > \"2021-07-01\") & (df[\"datetime\"] < \"2022-01-01\")].reset_index(drop=True)\n",
    "test_df = df[df[\"datetime\"] > \"2022-01-01\"].reset_index(drop=True)\n",
    "\n",
    "train_data = get_feature_label(get_feature_df(train_df))\n",
    "valid_data = get_feature_label(get_feature_df(valid_df))\n",
    "test_data = get_feature_label(get_feature_df(test_df))\n",
    "\n",
    "print(len(train_data[0]), len(valid_data[0]), len(test_data[0]), train_data[0].shape)"
   ]
  },
  {
   "cell_type": "code",
   "execution_count": 452,
   "id": "6d877788-4582-4dcd-a1db-b1e285679818",
   "metadata": {},
   "outputs": [],
   "source": [
    "from sklearn.metrics import mean_squared_error"
   ]
  },
  {
   "cell_type": "code",
   "execution_count": 453,
   "id": "e3203907-f7a3-49b4-88cf-6cb2948a9316",
   "metadata": {},
   "outputs": [
    {
     "data": {
      "text/plain": [
       "64.91751462398756"
      ]
     },
     "execution_count": 453,
     "metadata": {},
     "output_type": "execute_result"
    }
   ],
   "source": [
    "from sklearn.linear_model import LinearRegression\n",
    "reg = LinearRegression().fit(train_data[0], train_data[1])\n",
    "reg.predict(valid_data[0])\n",
    "mean_squared_error(valid_data[1], reg.predict(valid_data[0]))"
   ]
  },
  {
   "cell_type": "code",
   "execution_count": 454,
   "id": "2aabd47f-df9b-494e-a321-21e2a0d6e1e3",
   "metadata": {},
   "outputs": [
    {
     "data": {
      "text/plain": [
       "7.890115664766683"
      ]
     },
     "execution_count": 454,
     "metadata": {},
     "output_type": "execute_result"
    }
   ],
   "source": [
    "from sklearn.ensemble import RandomForestRegressor\n",
    "rf_reg = RandomForestRegressor(max_depth=6, random_state=0)\n",
    "rf_reg.fit(train_data[0], train_data[1])\n",
    "rf_reg.predict(valid_data[0])\n",
    "mean_squared_error(valid_data[1], rf_reg.predict(valid_data[0]))"
   ]
  },
  {
   "cell_type": "markdown",
   "id": "ef30dd5d-29b5-45de-b8f7-43202039f71c",
   "metadata": {
    "jp-MarkdownHeadingCollapsed": true,
    "tags": []
   },
   "source": [
    "## plot"
   ]
  },
  {
   "cell_type": "code",
   "execution_count": 1057,
   "id": "d42e28d0-92d7-4d4f-a14d-97ca75f616d2",
   "metadata": {},
   "outputs": [
    {
     "data": {
      "image/png": "[encoded data removed]",
      "text/plain": [
       "<Figure size 1500x500 with 1 Axes>"
      ]
     },
     "metadata": {},
     "output_type": "display_data"
    },
    {
     "name": "stdout",
     "output_type": "stream",
     "text": [
      "0.003\n"
     ]
    }
   ],
   "source": [
    "import matplotlib.pyplot as plt\n",
    "\n",
    "def evaluate(model, data, label):\n",
    "    fig = plt.figure(figsize = (15,5))\n",
    "    # plt.plot(label, label=\"true\")\n",
    "    plt.scatter(range(len(label)), label, label=\"true\")\n",
    "    preds = model.predict(data)\n",
    "    # plt.plot(preds, label=\"pred\")\n",
    "    plt.scatter(range(len(preds)), preds, label=\"pred\")\n",
    "    plt.legend()\n",
    "    plt.show()\n",
    "    \n",
    "    print(np.mean((preds - label)**2))\n",
    "\n",
    "evaluate(clf, train_data[0][:1000], train_data[1][:1000])"
   ]
  },
  {
   "cell_type": "code",
   "execution_count": 1058,
   "id": "3f948205-1245-4402-b51a-f0720be135ef",
   "metadata": {},
   "outputs": [
    {
     "data": {
      "image/png": "[encoded data removed]",
      "text/plain": [
       "<Figure size 1500x500 with 1 Axes>"
      ]
     },
     "metadata": {},
     "output_type": "display_data"
    },
    {
     "name": "stdout",
     "output_type": "stream",
     "text": [
      "0.25842696629213485\n"
     ]
    }
   ],
   "source": [
    "evaluate(clf, valid_data[0], valid_data[1])"
   ]
  },
  {
   "cell_type": "code",
   "execution_count": 1119,
   "id": "369c4dd1-f29e-42d9-ae56-54c92af5cec5",
   "metadata": {},
   "outputs": [
    {
     "data": {
      "image/png": "[encoded data removed]",
      "text/plain": [
       "<Figure size 1500x500 with 1 Axes>"
      ]
     },
     "metadata": {},
     "output_type": "display_data"
    },
    {
     "name": "stdout",
     "output_type": "stream",
     "text": [
      "0.16346153846153846\n"
     ]
    }
   ],
   "source": [
    "evaluate(clf, test_data[0], test_data[1])"
   ]
  },
  {
   "cell_type": "markdown",
   "id": "d3cd9e86-4b35-4ef5-9354-97538dcd0c84",
   "metadata": {},
   "source": [
    "## plot buy/sell"
   ]
  },
  {
   "cell_type": "code",
   "execution_count": 38,
   "id": "c8f143d0-8e4e-436e-baec-9807ee292d1c",
   "metadata": {},
   "outputs": [
    {
     "data": {
      "image/png": "[encoded data removed]",
      "text/plain": [
       "<Figure size 1500x500 with 1 Axes>"
      ]
     },
     "metadata": {},
     "output_type": "display_data"
    }
   ],
   "source": [
    "import matplotlib.pyplot as plt\n",
    "\n",
    "FUTURE = 5\n",
    "\n",
    "analyse_df = get_feature_df(test_df)\n",
    "\n",
    "states_buy, states_sell = [],[]\n",
    "for i in range(len(analyse_df)):\n",
    "    if analyse_df.loc[i,\"label\"] == 1:\n",
    "        states_buy.append(i)\n",
    "    else:\n",
    "        states_sell.append(i)\n",
    "        \n",
    "close = analyse_df['close']\n",
    "fig = plt.figure(figsize = (15,5))\n",
    "plt.plot(close, color='r', lw=2.)\n",
    "plt.plot(close, '^', markersize=10, color='m', label = 'buying signal', markevery = states_buy)\n",
    "plt.plot(close, 'v', markersize=10, color='k', label = 'selling signal', markevery = states_sell)\n",
    "plt.title('real buy/sell signal')\n",
    "plt.legend()\n",
    "plt.show()"
   ]
  },
  {
   "cell_type": "code",
   "execution_count": 39,
   "id": "01a06bcd-4da0-4b1f-a560-1cd50743c35f",
   "metadata": {},
   "outputs": [
    {
     "data": {
      "image/png": "[encoded data removed]",
      "text/plain": [
       "<Figure size 1500x500 with 1 Axes>"
      ]
     },
     "metadata": {},
     "output_type": "display_data"
    }
   ],
   "source": [
    "analyse_df = get_feature_df(test_df)\n",
    "\n",
    "features, labels = get_feature_label(analyse_df)\n",
    "preds = clf.predict_proba(features)[:,1]\n",
    "\n",
    "states_buy, states_sell = [],[]\n",
    "for i in range(len(features)):\n",
    "    if preds[i] > 0.5:\n",
    "        states_buy.append(i)\n",
    "    elif preds[i] < 0.5:\n",
    "        states_sell.append(i)\n",
    "        \n",
    "close = analyse_df['close']\n",
    "fig = plt.figure(figsize = (15,5))\n",
    "plt.plot(close, color='r', lw=2.)\n",
    "plt.plot(close, '^', markersize=10, color='m', label = 'buying signal', markevery = states_buy)\n",
    "plt.plot(close, 'v', markersize=10, color='k', label = 'selling signal', markevery = states_sell)\n",
    "plt.title('predict buy/sell signal')\n",
    "plt.legend()\n",
    "plt.show()"
   ]
  },
  {
   "cell_type": "code",
   "execution_count": 112,
   "id": "396dbdf6-92a6-4539-b743-464c1d81a2cb",
   "metadata": {},
   "outputs": [
    {
     "name": "stdout",
     "output_type": "stream",
     "text": [
      "label -> open: -0.2517573014704094\n",
      "label -> high: -0.2520370539795085\n",
      "label -> low: -0.24350035593784805\n",
      "label -> close: -0.24856394258211545\n",
      "label -> volume: -0.11098627364778779\n",
      "label -> label: 1.0\n",
      "label -> ma3: -0.26009271833889813\n",
      "label -> ma3_close: -0.031065141098889006\n",
      "label -> ma5: -0.24996488844589812\n",
      "label -> ma5_close: 0.017378338659659435\n",
      "label -> ma8: -0.220353288227354\n",
      "label -> ma8_close: 0.08342037161146418\n",
      "label -> ma10: -0.19536149629295718\n",
      "label -> ma10_close: 0.12439686823937182\n",
      "label -> ma15: -0.1834910919425158\n",
      "label -> ma15_close: 0.12842030325292586\n",
      "label -> ma20: -0.21810923041508368\n",
      "label -> ma20_close: 0.06969088928716245\n",
      "label -> ma3-5: -0.07807430082735245\n",
      "label -> ma3-8: -0.13987696769731936\n",
      "label -> ma3-10: -0.17854225943720348\n",
      "label -> ma3-15: -0.16360067903605788\n",
      "label -> ma3-20: -0.08947802929745072\n",
      "label -> ma5-8: -0.16728893778560253\n",
      "label -> ma5-10: -0.20543256686488504\n",
      "label -> ma5-15: -0.1676068638880558\n",
      "label -> ma5-20: -0.07894664310293001\n",
      "label -> ma8-10: -0.2319575237726739\n",
      "label -> ma8-15: -0.1362216764988565\n",
      "label -> ma8-20: -0.026910261177599766\n",
      "label -> ma10-15: -0.07261100822732065\n",
      "label -> ma10-20: 0.038284806889886544\n",
      "label -> ma15-20: 0.16659595487891835\n",
      "label -> support_3: -0.2485248843640867\n",
      "label -> resistance_3: -0.26018238274320477\n",
      "label -> shock_3: -0.030173697956271398\n",
      "label -> support_5: -0.21713791448734057\n",
      "label -> resistance_5: -0.26937131239852696\n",
      "label -> shock_5: -0.1587063556321652\n",
      "label -> support_8: -0.16189147143994997\n",
      "label -> resistance_8: -0.2548116474317677\n",
      "label -> shock_8: -0.23974812893647252\n",
      "label -> support_10: -0.13918787188091833\n",
      "label -> resistance_10: -0.23038075666280883\n",
      "label -> shock_10: -0.2396261523414399\n",
      "label -> support_15: -0.13945292013307353\n",
      "label -> resistance_15: -0.2664103032239514\n",
      "label -> shock_15: -0.28825513013004717\n",
      "label -> support_20: -0.23500575700026277\n",
      "label -> resistance_20: -0.3094113716701479\n",
      "label -> shock_20: -0.22236810466013407\n"
     ]
    }
   ],
   "source": [
    "for col in analyse_df.columns[1:]:\n",
    "    print(f\"label -> {col}:\", analyse_df.label.corr(analyse_df[col]))"
   ]
  },
  {
   "cell_type": "code",
   "execution_count": null,
   "id": "c1550c9e-f7da-4688-a4bd-a6ada7cc8f99",
   "metadata": {},
   "outputs": [],
   "source": []
  }
 ],
 "metadata": {
  "kernelspec": {
   "display_name": "Python 3 (ipykernel)",
   "language": "python",
   "name": "python3"
  },
  "language_info": {
   "codemirror_mode": {
    "name": "ipython",
    "version": 3
   },
   "file_extension": ".py",
   "mimetype": "text/x-python",
   "name": "python",
   "nbconvert_exporter": "python",
   "pygments_lexer": "ipython3",
   "version": "3.9.12"
  }
 },
 "nbformat": 4,
 "nbformat_minor": 5
}
