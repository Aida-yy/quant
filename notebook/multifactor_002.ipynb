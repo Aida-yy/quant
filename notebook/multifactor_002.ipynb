{
 "cells": [
  {
   "cell_type": "markdown",
   "id": "4cd5a98b-2cf8-48c1-b76c-1dd6150b09f5",
   "metadata": {},
   "source": [
    "多因子期货\n",
    "\n",
    "分钟线预测涨跌"
   ]
  },
  {
   "cell_type": "code",
   "execution_count": 1,
   "id": "b23c21fb-27bb-4875-ba1d-66d6282de2da",
   "metadata": {
    "tags": []
   },
   "outputs": [],
   "source": [
    "import os\n",
    "import sys\n",
    "import glob\n",
    "import pathlib\n",
    "from copy import deepcopy\n",
    "from itertools import combinations\n",
    "from collections import Counter\n",
    "import warnings\n",
    "warnings.filterwarnings(\"ignore\")\n",
    "\n",
    "import pandas as pd\n",
    "import numpy as np\n",
    "import talib\n",
    "from sklearn import preprocessing"
   ]
  },
  {
   "cell_type": "code",
   "execution_count": 2,
   "id": "ada942ec-470a-46cc-9714-9aa12d425c97",
   "metadata": {},
   "outputs": [
    {
     "name": "stdout",
     "output_type": "stream",
     "text": [
      "(1023, 7)\n"
     ]
    },
    {
     "data": {
      "text/html": [
       "<div>\n",
       "<style scoped>\n",
       "    .dataframe tbody tr th:only-of-type {\n",
       "        vertical-align: middle;\n",
       "    }\n",
       "\n",
       "    .dataframe tbody tr th {\n",
       "        vertical-align: top;\n",
       "    }\n",
       "\n",
       "    .dataframe thead th {\n",
       "        text-align: right;\n",
       "    }\n",
       "</style>\n",
       "<table border=\"1\" class=\"dataframe\">\n",
       "  <thead>\n",
       "    <tr style=\"text-align: right;\">\n",
       "      <th></th>\n",
       "      <th>datetime</th>\n",
       "      <th>open</th>\n",
       "      <th>high</th>\n",
       "      <th>low</th>\n",
       "      <th>close</th>\n",
       "      <th>volume</th>\n",
       "      <th>hold</th>\n",
       "    </tr>\n",
       "  </thead>\n",
       "  <tbody>\n",
       "    <tr>\n",
       "      <th>0</th>\n",
       "      <td>2022-09-16 22:05:00</td>\n",
       "      <td>5676.0</td>\n",
       "      <td>5686.0</td>\n",
       "      <td>5670.0</td>\n",
       "      <td>5672.0</td>\n",
       "      <td>25249</td>\n",
       "      <td>1246923</td>\n",
       "    </tr>\n",
       "    <tr>\n",
       "      <th>1</th>\n",
       "      <td>2022-09-16 22:10:00</td>\n",
       "      <td>5672.0</td>\n",
       "      <td>5694.0</td>\n",
       "      <td>5672.0</td>\n",
       "      <td>5688.0</td>\n",
       "      <td>24593</td>\n",
       "      <td>1246534</td>\n",
       "    </tr>\n",
       "    <tr>\n",
       "      <th>2</th>\n",
       "      <td>2022-09-16 22:15:00</td>\n",
       "      <td>5690.0</td>\n",
       "      <td>5714.0</td>\n",
       "      <td>5686.0</td>\n",
       "      <td>5708.0</td>\n",
       "      <td>49739</td>\n",
       "      <td>1245950</td>\n",
       "    </tr>\n",
       "    <tr>\n",
       "      <th>3</th>\n",
       "      <td>2022-09-16 22:20:00</td>\n",
       "      <td>5706.0</td>\n",
       "      <td>5718.0</td>\n",
       "      <td>5702.0</td>\n",
       "      <td>5718.0</td>\n",
       "      <td>37575</td>\n",
       "      <td>1251367</td>\n",
       "    </tr>\n",
       "    <tr>\n",
       "      <th>4</th>\n",
       "      <td>2022-09-16 22:25:00</td>\n",
       "      <td>5716.0</td>\n",
       "      <td>5728.0</td>\n",
       "      <td>5710.0</td>\n",
       "      <td>5722.0</td>\n",
       "      <td>48409</td>\n",
       "      <td>1254110</td>\n",
       "    </tr>\n",
       "  </tbody>\n",
       "</table>\n",
       "</div>"
      ],
      "text/plain": [
       "              datetime    open    high     low   close  volume     hold\n",
       "0  2022-09-16 22:05:00  5676.0  5686.0  5670.0  5672.0   25249  1246923\n",
       "1  2022-09-16 22:10:00  5672.0  5694.0  5672.0  5688.0   24593  1246534\n",
       "2  2022-09-16 22:15:00  5690.0  5714.0  5686.0  5708.0   49739  1245950\n",
       "3  2022-09-16 22:20:00  5706.0  5718.0  5702.0  5718.0   37575  1251367\n",
       "4  2022-09-16 22:25:00  5716.0  5728.0  5710.0  5722.0   48409  1254110"
      ]
     },
     "execution_count": 2,
     "metadata": {},
     "output_type": "execute_result"
    }
   ],
   "source": [
    "\"\"\" 候选品种\n",
    "TA0 czce    PTA连续\n",
    "MA0\tczce\t甲醇连续\n",
    "RM0\tczce\t菜粕连续\n",
    "C0  dce     玉米连续\n",
    "\"\"\"\n",
    "import akshare as ak\n",
    "\n",
    "ta_df = ak.futures_zh_minute_sina(symbol=\"TA2301\", period=\"5\")\n",
    "print(ta_df.shape)\n",
    "ta_df.head()"
   ]
  },
  {
   "cell_type": "code",
   "execution_count": 3,
   "id": "d0b7aade-822a-4646-95dc-b81378c40f18",
   "metadata": {},
   "outputs": [
    {
     "data": {
      "text/html": [
       "<div>\n",
       "<style scoped>\n",
       "    .dataframe tbody tr th:only-of-type {\n",
       "        vertical-align: middle;\n",
       "    }\n",
       "\n",
       "    .dataframe tbody tr th {\n",
       "        vertical-align: top;\n",
       "    }\n",
       "\n",
       "    .dataframe thead th {\n",
       "        text-align: right;\n",
       "    }\n",
       "</style>\n",
       "<table border=\"1\" class=\"dataframe\">\n",
       "  <thead>\n",
       "    <tr style=\"text-align: right;\">\n",
       "      <th></th>\n",
       "      <th>datetime</th>\n",
       "      <th>open</th>\n",
       "      <th>high</th>\n",
       "      <th>low</th>\n",
       "      <th>close</th>\n",
       "      <th>volume</th>\n",
       "      <th>hold</th>\n",
       "    </tr>\n",
       "  </thead>\n",
       "  <tbody>\n",
       "    <tr>\n",
       "      <th>1018</th>\n",
       "      <td>2022-10-14 22:40:00</td>\n",
       "      <td>5412.0</td>\n",
       "      <td>5416.0</td>\n",
       "      <td>5410.0</td>\n",
       "      <td>5412.0</td>\n",
       "      <td>13793</td>\n",
       "      <td>1125346</td>\n",
       "    </tr>\n",
       "    <tr>\n",
       "      <th>1019</th>\n",
       "      <td>2022-10-14 22:45:00</td>\n",
       "      <td>5412.0</td>\n",
       "      <td>5418.0</td>\n",
       "      <td>5408.0</td>\n",
       "      <td>5408.0</td>\n",
       "      <td>19782</td>\n",
       "      <td>1125544</td>\n",
       "    </tr>\n",
       "    <tr>\n",
       "      <th>1020</th>\n",
       "      <td>2022-10-14 22:50:00</td>\n",
       "      <td>5408.0</td>\n",
       "      <td>5412.0</td>\n",
       "      <td>5400.0</td>\n",
       "      <td>5406.0</td>\n",
       "      <td>19553</td>\n",
       "      <td>1125056</td>\n",
       "    </tr>\n",
       "    <tr>\n",
       "      <th>1021</th>\n",
       "      <td>2022-10-14 22:55:00</td>\n",
       "      <td>5406.0</td>\n",
       "      <td>5412.0</td>\n",
       "      <td>5402.0</td>\n",
       "      <td>5406.0</td>\n",
       "      <td>14768</td>\n",
       "      <td>1124061</td>\n",
       "    </tr>\n",
       "    <tr>\n",
       "      <th>1022</th>\n",
       "      <td>2022-10-14 23:00:00</td>\n",
       "      <td>5404.0</td>\n",
       "      <td>5406.0</td>\n",
       "      <td>5386.0</td>\n",
       "      <td>5392.0</td>\n",
       "      <td>29639</td>\n",
       "      <td>1109585</td>\n",
       "    </tr>\n",
       "  </tbody>\n",
       "</table>\n",
       "</div>"
      ],
      "text/plain": [
       "                 datetime    open    high     low   close  volume     hold\n",
       "1018  2022-10-14 22:40:00  5412.0  5416.0  5410.0  5412.0   13793  1125346\n",
       "1019  2022-10-14 22:45:00  5412.0  5418.0  5408.0  5408.0   19782  1125544\n",
       "1020  2022-10-14 22:50:00  5408.0  5412.0  5400.0  5406.0   19553  1125056\n",
       "1021  2022-10-14 22:55:00  5406.0  5412.0  5402.0  5406.0   14768  1124061\n",
       "1022  2022-10-14 23:00:00  5404.0  5406.0  5386.0  5392.0   29639  1109585"
      ]
     },
     "execution_count": 3,
     "metadata": {},
     "output_type": "execute_result"
    }
   ],
   "source": [
    "ta_df.tail()"
   ]
  },
  {
   "cell_type": "code",
   "execution_count": 4,
   "id": "b96e1200-a267-40f3-bfe5-e67881b6eb4e",
   "metadata": {},
   "outputs": [
    {
     "data": {
      "text/plain": [
       "Counter({False: 81, True: 942})"
      ]
     },
     "execution_count": 4,
     "metadata": {},
     "output_type": "execute_result"
    }
   ],
   "source": [
    "from collections import Counter\n",
    "Counter((pd.to_datetime(ta_df[\"datetime\"]) > pd.to_datetime(\"2022-09-20\")) == True)"
   ]
  },
  {
   "cell_type": "markdown",
   "id": "efa549d4-831d-4dea-b948-8183e0d8b2b7",
   "metadata": {
    "tags": []
   },
   "source": [
    "## feature"
   ]
  },
  {
   "cell_type": "code",
   "execution_count": null,
   "id": "a046d271-0d23-4ada-83f7-d1cdb0197179",
   "metadata": {},
   "outputs": [],
   "source": [
    "FUTURE = 10\n",
    "TASK = \"clf\""
   ]
  },
  {
   "cell_type": "code",
   "execution_count": 53,
   "id": "e9cee8dd-b37b-4660-a86e-1337a44008b4",
   "metadata": {},
   "outputs": [],
   "source": [
    "def get_ma_feature(df):\n",
    "    periods = np.arange(3,30)\n",
    "    for i in periods:\n",
    "        df[f\"ma{i}\"] = talib.SMA(df[\"close\"], timeperiod=i)\n",
    "        # ma = talib.EMA(df[\"close\"], timeperiod=i)\n",
    "        # df[f\"kama{i}\"] = talib.KAMA(df[\"close\"], timeperiod=i)\n",
    "        # df[f\"open_ma{i}\"] = talib.EMA(df[\"open\"], timeperiod=i)\n",
    "        # df[f\"ma{i}_close\"] = ma - df[\"close\"]\n",
    "        \n",
    "    # combines = combinations(periods, 2)\n",
    "    # for i in combines:\n",
    "    #     if i[0] < i[1]:\n",
    "    #         df[f\"ma{i[0]}-{i[1]}\"] = df[f\"ma{i[0]}\"] - df[f\"ma{i[1]}\"]\n",
    "            \n",
    "    # combines = combinations(periods, 3)\n",
    "    # for i in combines:\n",
    "    #     if i[0] < i[1] < i[2]:\n",
    "    #         df[f\"ma{i[0]}-{i[1]}-{i[2]}\"] = df[f\"ma{i[0]}\"] - df[f\"ma{i[1]}\"]- df[f\"ma{i[2]}\"]\n",
    "\n",
    "def get_add_feature(df):\n",
    "    low, high, close = df[\"low\"], df[\"high\"], df[\"close\"]\n",
    "\n",
    "    # Support and resistance\n",
    "    periods = np.arange(3,30)\n",
    "    for i in periods:\n",
    "        df[f\"support_{i}\"] = df[\"close\"].rolling(window=i).min() - df[\"close\"]\n",
    "        df[f\"resistance_{i}\"] = df[\"close\"].rolling(window=i).max() - df[\"close\"]\n",
    "        df[f\"shock_{i}\"] = df[\"close\"].rolling(window=i).std() - df[\"close\"]\n",
    "        \n",
    "        df[f\"up_count_{i}\"] = (df[\"close\"] - df[\"close\"].shift(1)).apply(lambda x:1 if x>0 else 0)\\\n",
    "        .rolling(window=i).apply(lambda x:Counter(x)[1]) / i\n",
    "        \n",
    "        df[f\"momentum_{i}\"] = df[\"close\"] / df[\"close\"].shift(i) - 1\n",
    "        \n",
    "\n",
    "def get_momentum_feature(df):\n",
    "    low, high, close = df[\"low\"], df[\"high\"], df[\"close\"]\n",
    "    \n",
    "    # ADX\n",
    "    adx = talib.ADX(high, low, close, timeperiod=5)\n",
    "    adx2 = talib.ADX(high, low, close, timeperiod=14)\n",
    "    df[\"adx\"] = adx\n",
    "    df[\"adx2\"] = adx2\n",
    "    \n",
    "    # AROON\n",
    "    aroondown, aroonup = talib.AROON(high, low, timeperiod=14)\n",
    "    df[\"aroondown\"], df[\"aroonup\"] = aroondown, aroonup\n",
    "    \n",
    "    # CCI\n",
    "    cci = talib.CCI(high, low, close, timeperiod=7)\n",
    "    cci2 = talib.CCI(high, low, close, timeperiod=14)\n",
    "    df[\"cci\"] = cci\n",
    "    df[\"cci2\"] = cci2\n",
    "    \n",
    "    # MACD\n",
    "    macd, macdsignal, macdhist = talib.MACD(close, fastperiod=12, slowperiod=26, signalperiod=9)\n",
    "    df[\"macd\"], df[\"macdsignal\"], df[\"macdhist\"] = macd, macdsignal, macdhist\n",
    "    \n",
    "    # MOM\n",
    "    mom = talib.MOM(close, timeperiod=5)\n",
    "    mom2 = talib.MOM(close, timeperiod=10)\n",
    "    df[\"mom\"] = mom\n",
    "    df[\"mom\"] = mom2\n",
    "    \n",
    "    # ROC\n",
    "    roc = talib.ROC(close, timeperiod=5)    \n",
    "    roc2 = talib.ROC(close, timeperiod=10)\n",
    "    df[\"roc\"] = roc\n",
    "    df[\"roc2\"] = roc2\n",
    "    \n",
    "    # RSI\n",
    "    rsi = talib.RSI(close, timeperiod=7)\n",
    "    rsi2 = talib.RSI(close, timeperiod=14)\n",
    "    df[\"rsi\"] = rsi\n",
    "    df[\"rsi2\"] = rsi2\n",
    "    \n",
    "    # KD\n",
    "    slowk, slowd = talib.STOCH(high, low, close, fastk_period=5, slowk_period=3, slowk_matype=0, slowd_period=3, slowd_matype=0)\n",
    "    df[\"slowk\"], df[\"slowd\"] = slowk, slowd\n",
    "    \n",
    "    # WILLR\n",
    "    willr = talib.WILLR(high, low, close, timeperiod=7)\n",
    "    willr2 = talib.WILLR(high, low, close, timeperiod=14)\n",
    "    df[\"willr\"] = willr\n",
    "    df[\"willr2\"] = willr2\n",
    "\n",
    "\n",
    "def get_volume_feature(df):\n",
    "    low, high, close, volume = df[\"low\"], df[\"high\"], df[\"close\"], df[\"volume\"]\n",
    "    \n",
    "    # AD\n",
    "    ad = talib.AD(high, low, close, volume)\n",
    "    df[\"ad\"] = ad\n",
    "    \n",
    "    # ADOSC\n",
    "    adsoc = talib.ADOSC(high, low, close, volume, fastperiod=3, slowperiod=10)\n",
    "    df[\"adsoc\"] = adsoc\n",
    "    \n",
    "    # OBV\n",
    "    obv = talib.OBV(close, volume)\n",
    "    df[\"obv\"] = obv\n",
    "\n",
    "\n",
    "def get_volatility_feature(df):\n",
    "    low, high, close = df[\"low\"], df[\"high\"], df[\"close\"]\n",
    "    \n",
    "    # ATR\n",
    "    atr = talib.ATR(high, low, close, timeperiod=14)\n",
    "    df[\"atr\"] = atr\n",
    "    \n",
    "    # TRANGE\n",
    "    trange = talib.TRANGE(high, low, close)\n",
    "    df[\"trange\"] = trange\n",
    "\n",
    "\n",
    "def get_close_change(df, base=\"close\"):\n",
    "    # close change, use for label\n",
    "    gap = FUTURE\n",
    "    base_change = df.loc[gap:,base].values / df.loc[:(df.shape[0]-1-gap),base].values - 1\n",
    "    base_change_rate = base_change * 100\n",
    "    return np.hstack([base_change_rate,[0]*gap])\n",
    "\n",
    "def get_label(close, avg_close, std_close):\n",
    "    if (avg_close > close+30):\n",
    "        return 1\n",
    "    elif (avg_close < close-30):\n",
    "        return 0\n",
    "    else:\n",
    "        return 2\n",
    "\n",
    "def get_feature_df(df):\n",
    "    df = deepcopy(df)\n",
    "    \n",
    "    # close_change = get_close_change(df, base=\"close\")\n",
    "    # close_open_rate = (df[\"close\"] - df[\"open\"]) / df[\"open\"] * 100\n",
    "        \n",
    "    assert TASK in (\"clf\",\"reg\")\n",
    "    # calculate up/down\n",
    "    if TASK==\"clf\":\n",
    "        # labels = []\n",
    "        # for cc,co in zip(np.hstack([close_change[1:], [0]]),\n",
    "        #                  np.hstack([close_open_rate[1:], [0]])):\n",
    "        #     if cc > 0 and co > 0:\n",
    "        #         label = 1 # buy\n",
    "        #     elif cc < 0 and co < 0:\n",
    "        #         label = 0 # short\n",
    "        #     else:\n",
    "        #         label = 2 # no change\n",
    "        #     labels.append(label)\n",
    "        # df[\"label\"] = np.array(labels)\n",
    "        # labels = close_change\n",
    "        # df[\"label\"] = np.array(list(map(lambda x:1 if x>0 else 0, labels)))\n",
    "        window = FUTURE\n",
    "        avg_close = df[\"close\"].rolling(window=window).mean().shift(-window)\n",
    "        # std_close = df[\"close\"].rolling(window=window).std().shift(window)\n",
    "        # future_df = pd.concat([df[\"close\"], avg_close, std_close], axis=1)\n",
    "        # future_df.columns = [\"close\",\"avg_close\",\"std_close\"]\n",
    "        # df[\"label\"] = future_df.apply(lambda x: get_label(x.close,x.avg_close,x.std_close), axis=1)\n",
    "        df[\"label\"] = (avg_close - df[\"close\"]).apply(lambda x: 1 if x>0 else 0)\n",
    "    if TASK==\"reg\":\n",
    "        df[\"label\"] = close_change\n",
    "    \n",
    "    # calculate factor\n",
    "    # get_ma_feature(df)\n",
    "    get_add_feature(df)\n",
    "    # get_momentum_feature(df)\n",
    "    # get_volume_feature(df)\n",
    "    # get_volatility_feature(df)\n",
    "    \n",
    "    # drop anomaly value\n",
    "    df = df.dropna().reset_index(drop=True)\n",
    "    df = df.drop(0, axis=0).reset_index(drop=True)\n",
    "    df = df.drop([len(df)-1], axis=0).reset_index(drop=True)\n",
    "    return df\n",
    "\n",
    "def get_feature_label(df):\n",
    "    feature_df = df.drop([\"datetime\",\"open\",\"high\",\"low\",\"close\",\"volume\",\"hold\",\"label\"],axis=1)\n",
    "    # feature_df = (feature_df-feature_df.min())/(feature_df.max()-feature_df.min())\n",
    "    feature_df = (feature_df-feature_df.mean())/(feature_df.std())\n",
    "    features = feature_df.values\n",
    "    labels = df[\"label\"].values\n",
    "    return features, labels"
   ]
  },
  {
   "cell_type": "code",
   "execution_count": 24,
   "id": "b6826435-3406-446b-9e4a-ab35fe06514f",
   "metadata": {
    "collapsed": true,
    "jupyter": {
     "outputs_hidden": true
    },
    "tags": []
   },
   "outputs": [
    {
     "data": {
      "text/html": [
       "<div>\n",
       "<style scoped>\n",
       "    .dataframe tbody tr th:only-of-type {\n",
       "        vertical-align: middle;\n",
       "    }\n",
       "\n",
       "    .dataframe tbody tr th {\n",
       "        vertical-align: top;\n",
       "    }\n",
       "\n",
       "    .dataframe thead th {\n",
       "        text-align: right;\n",
       "    }\n",
       "</style>\n",
       "<table border=\"1\" class=\"dataframe\">\n",
       "  <thead>\n",
       "    <tr style=\"text-align: right;\">\n",
       "      <th></th>\n",
       "      <th>datetime</th>\n",
       "      <th>open</th>\n",
       "      <th>high</th>\n",
       "      <th>low</th>\n",
       "      <th>close</th>\n",
       "      <th>volume</th>\n",
       "      <th>hold</th>\n",
       "      <th>label</th>\n",
       "      <th>ma3</th>\n",
       "      <th>ma4</th>\n",
       "      <th>...</th>\n",
       "      <th>support_28</th>\n",
       "      <th>resistance_28</th>\n",
       "      <th>shock_28</th>\n",
       "      <th>up_count_28</th>\n",
       "      <th>momentum_28</th>\n",
       "      <th>support_29</th>\n",
       "      <th>resistance_29</th>\n",
       "      <th>shock_29</th>\n",
       "      <th>up_count_29</th>\n",
       "      <th>momentum_29</th>\n",
       "    </tr>\n",
       "  </thead>\n",
       "  <tbody>\n",
       "    <tr>\n",
       "      <th>0</th>\n",
       "      <td>2022-09-19 10:50:00</td>\n",
       "      <td>5620.0</td>\n",
       "      <td>5628.0</td>\n",
       "      <td>5616.0</td>\n",
       "      <td>5624.0</td>\n",
       "      <td>19053</td>\n",
       "      <td>1257626</td>\n",
       "      <td>1</td>\n",
       "      <td>5620.000000</td>\n",
       "      <td>5620.0</td>\n",
       "      <td>...</td>\n",
       "      <td>-6.0</td>\n",
       "      <td>98.0</td>\n",
       "      <td>-5590.069243</td>\n",
       "      <td>0.321429</td>\n",
       "      <td>-0.014716</td>\n",
       "      <td>-6.0</td>\n",
       "      <td>98.0</td>\n",
       "      <td>-5589.922285</td>\n",
       "      <td>0.344828</td>\n",
       "      <td>-0.011252</td>\n",
       "    </tr>\n",
       "    <tr>\n",
       "      <th>1</th>\n",
       "      <td>2022-09-19 10:55:00</td>\n",
       "      <td>5624.0</td>\n",
       "      <td>5636.0</td>\n",
       "      <td>5622.0</td>\n",
       "      <td>5632.0</td>\n",
       "      <td>23395</td>\n",
       "      <td>1255846</td>\n",
       "      <td>0</td>\n",
       "      <td>5624.666667</td>\n",
       "      <td>5623.0</td>\n",
       "      <td>...</td>\n",
       "      <td>-14.0</td>\n",
       "      <td>90.0</td>\n",
       "      <td>-5598.736263</td>\n",
       "      <td>0.321429</td>\n",
       "      <td>-0.015040</td>\n",
       "      <td>-14.0</td>\n",
       "      <td>90.0</td>\n",
       "      <td>-5597.960759</td>\n",
       "      <td>0.344828</td>\n",
       "      <td>-0.013315</td>\n",
       "    </tr>\n",
       "    <tr>\n",
       "      <th>2</th>\n",
       "      <td>2022-09-19 11:00:00</td>\n",
       "      <td>5634.0</td>\n",
       "      <td>5634.0</td>\n",
       "      <td>5622.0</td>\n",
       "      <td>5626.0</td>\n",
       "      <td>12636</td>\n",
       "      <td>1255350</td>\n",
       "      <td>0</td>\n",
       "      <td>5627.333333</td>\n",
       "      <td>5625.0</td>\n",
       "      <td>...</td>\n",
       "      <td>-8.0</td>\n",
       "      <td>90.0</td>\n",
       "      <td>-5593.744079</td>\n",
       "      <td>0.285714</td>\n",
       "      <td>-0.016777</td>\n",
       "      <td>-8.0</td>\n",
       "      <td>96.0</td>\n",
       "      <td>-5592.484031</td>\n",
       "      <td>0.310345</td>\n",
       "      <td>-0.016090</td>\n",
       "    </tr>\n",
       "    <tr>\n",
       "      <th>3</th>\n",
       "      <td>2022-09-19 11:05:00</td>\n",
       "      <td>5626.0</td>\n",
       "      <td>5630.0</td>\n",
       "      <td>5618.0</td>\n",
       "      <td>5624.0</td>\n",
       "      <td>14306</td>\n",
       "      <td>1256221</td>\n",
       "      <td>1</td>\n",
       "      <td>5627.333333</td>\n",
       "      <td>5626.5</td>\n",
       "      <td>...</td>\n",
       "      <td>-6.0</td>\n",
       "      <td>92.0</td>\n",
       "      <td>-5592.670382</td>\n",
       "      <td>0.285714</td>\n",
       "      <td>-0.016095</td>\n",
       "      <td>-6.0</td>\n",
       "      <td>92.0</td>\n",
       "      <td>-5591.507940</td>\n",
       "      <td>0.275862</td>\n",
       "      <td>-0.017127</td>\n",
       "    </tr>\n",
       "    <tr>\n",
       "      <th>4</th>\n",
       "      <td>2022-09-19 11:10:00</td>\n",
       "      <td>5622.0</td>\n",
       "      <td>5632.0</td>\n",
       "      <td>5622.0</td>\n",
       "      <td>5630.0</td>\n",
       "      <td>10938</td>\n",
       "      <td>1256437</td>\n",
       "      <td>0</td>\n",
       "      <td>5626.666667</td>\n",
       "      <td>5628.0</td>\n",
       "      <td>...</td>\n",
       "      <td>-12.0</td>\n",
       "      <td>86.0</td>\n",
       "      <td>-5599.798560</td>\n",
       "      <td>0.321429</td>\n",
       "      <td>-0.014011</td>\n",
       "      <td>-12.0</td>\n",
       "      <td>86.0</td>\n",
       "      <td>-5598.744025</td>\n",
       "      <td>0.310345</td>\n",
       "      <td>-0.015045</td>\n",
       "    </tr>\n",
       "    <tr>\n",
       "      <th>5</th>\n",
       "      <td>2022-09-19 11:15:00</td>\n",
       "      <td>5630.0</td>\n",
       "      <td>5632.0</td>\n",
       "      <td>5622.0</td>\n",
       "      <td>5622.0</td>\n",
       "      <td>9113</td>\n",
       "      <td>1254977</td>\n",
       "      <td>0</td>\n",
       "      <td>5625.333333</td>\n",
       "      <td>5625.5</td>\n",
       "      <td>...</td>\n",
       "      <td>-4.0</td>\n",
       "      <td>94.0</td>\n",
       "      <td>-5592.702403</td>\n",
       "      <td>0.321429</td>\n",
       "      <td>-0.014721</td>\n",
       "      <td>-4.0</td>\n",
       "      <td>94.0</td>\n",
       "      <td>-5591.644633</td>\n",
       "      <td>0.310345</td>\n",
       "      <td>-0.015412</td>\n",
       "    </tr>\n",
       "    <tr>\n",
       "      <th>6</th>\n",
       "      <td>2022-09-19 11:20:00</td>\n",
       "      <td>5620.0</td>\n",
       "      <td>5648.0</td>\n",
       "      <td>5620.0</td>\n",
       "      <td>5640.0</td>\n",
       "      <td>35715</td>\n",
       "      <td>1245863</td>\n",
       "      <td>0</td>\n",
       "      <td>5630.666667</td>\n",
       "      <td>5629.0</td>\n",
       "      <td>...</td>\n",
       "      <td>-22.0</td>\n",
       "      <td>76.0</td>\n",
       "      <td>-5611.473302</td>\n",
       "      <td>0.357143</td>\n",
       "      <td>-0.008787</td>\n",
       "      <td>-22.0</td>\n",
       "      <td>76.0</td>\n",
       "      <td>-5611.115484</td>\n",
       "      <td>0.344828</td>\n",
       "      <td>-0.011567</td>\n",
       "    </tr>\n",
       "    <tr>\n",
       "      <th>7</th>\n",
       "      <td>2022-09-19 11:25:00</td>\n",
       "      <td>5638.0</td>\n",
       "      <td>5642.0</td>\n",
       "      <td>5630.0</td>\n",
       "      <td>5634.0</td>\n",
       "      <td>12100</td>\n",
       "      <td>1245647</td>\n",
       "      <td>0</td>\n",
       "      <td>5632.000000</td>\n",
       "      <td>5631.5</td>\n",
       "      <td>...</td>\n",
       "      <td>-16.0</td>\n",
       "      <td>82.0</td>\n",
       "      <td>-5606.279265</td>\n",
       "      <td>0.357143</td>\n",
       "      <td>-0.009842</td>\n",
       "      <td>-16.0</td>\n",
       "      <td>82.0</td>\n",
       "      <td>-5605.787052</td>\n",
       "      <td>0.344828</td>\n",
       "      <td>-0.009842</td>\n",
       "    </tr>\n",
       "    <tr>\n",
       "      <th>8</th>\n",
       "      <td>2022-09-19 11:30:00</td>\n",
       "      <td>5632.0</td>\n",
       "      <td>5634.0</td>\n",
       "      <td>5616.0</td>\n",
       "      <td>5622.0</td>\n",
       "      <td>22313</td>\n",
       "      <td>1245608</td>\n",
       "      <td>0</td>\n",
       "      <td>5632.000000</td>\n",
       "      <td>5629.5</td>\n",
       "      <td>...</td>\n",
       "      <td>-4.0</td>\n",
       "      <td>94.0</td>\n",
       "      <td>-5594.716363</td>\n",
       "      <td>0.357143</td>\n",
       "      <td>-0.011256</td>\n",
       "      <td>-4.0</td>\n",
       "      <td>94.0</td>\n",
       "      <td>-5594.284165</td>\n",
       "      <td>0.344828</td>\n",
       "      <td>-0.011951</td>\n",
       "    </tr>\n",
       "    <tr>\n",
       "      <th>9</th>\n",
       "      <td>2022-09-19 13:35:00</td>\n",
       "      <td>5618.0</td>\n",
       "      <td>5630.0</td>\n",
       "      <td>5608.0</td>\n",
       "      <td>5622.0</td>\n",
       "      <td>41256</td>\n",
       "      <td>1247414</td>\n",
       "      <td>0</td>\n",
       "      <td>5626.000000</td>\n",
       "      <td>5629.5</td>\n",
       "      <td>...</td>\n",
       "      <td>-4.0</td>\n",
       "      <td>94.0</td>\n",
       "      <td>-5596.471616</td>\n",
       "      <td>0.321429</td>\n",
       "      <td>-0.014030</td>\n",
       "      <td>-4.0</td>\n",
       "      <td>94.0</td>\n",
       "      <td>-5594.783481</td>\n",
       "      <td>0.344828</td>\n",
       "      <td>-0.011256</td>\n",
       "    </tr>\n",
       "  </tbody>\n",
       "</table>\n",
       "<p>10 rows × 170 columns</p>\n",
       "</div>"
      ],
      "text/plain": [
       "              datetime    open    high     low   close  volume     hold  \\\n",
       "0  2022-09-19 10:50:00  5620.0  5628.0  5616.0  5624.0   19053  1257626   \n",
       "1  2022-09-19 10:55:00  5624.0  5636.0  5622.0  5632.0   23395  1255846   \n",
       "2  2022-09-19 11:00:00  5634.0  5634.0  5622.0  5626.0   12636  1255350   \n",
       "3  2022-09-19 11:05:00  5626.0  5630.0  5618.0  5624.0   14306  1256221   \n",
       "4  2022-09-19 11:10:00  5622.0  5632.0  5622.0  5630.0   10938  1256437   \n",
       "5  2022-09-19 11:15:00  5630.0  5632.0  5622.0  5622.0    9113  1254977   \n",
       "6  2022-09-19 11:20:00  5620.0  5648.0  5620.0  5640.0   35715  1245863   \n",
       "7  2022-09-19 11:25:00  5638.0  5642.0  5630.0  5634.0   12100  1245647   \n",
       "8  2022-09-19 11:30:00  5632.0  5634.0  5616.0  5622.0   22313  1245608   \n",
       "9  2022-09-19 13:35:00  5618.0  5630.0  5608.0  5622.0   41256  1247414   \n",
       "\n",
       "   label          ma3     ma4  ...  support_28  resistance_28     shock_28  \\\n",
       "0      1  5620.000000  5620.0  ...        -6.0           98.0 -5590.069243   \n",
       "1      0  5624.666667  5623.0  ...       -14.0           90.0 -5598.736263   \n",
       "2      0  5627.333333  5625.0  ...        -8.0           90.0 -5593.744079   \n",
       "3      1  5627.333333  5626.5  ...        -6.0           92.0 -5592.670382   \n",
       "4      0  5626.666667  5628.0  ...       -12.0           86.0 -5599.798560   \n",
       "5      0  5625.333333  5625.5  ...        -4.0           94.0 -5592.702403   \n",
       "6      0  5630.666667  5629.0  ...       -22.0           76.0 -5611.473302   \n",
       "7      0  5632.000000  5631.5  ...       -16.0           82.0 -5606.279265   \n",
       "8      0  5632.000000  5629.5  ...        -4.0           94.0 -5594.716363   \n",
       "9      0  5626.000000  5629.5  ...        -4.0           94.0 -5596.471616   \n",
       "\n",
       "   up_count_28  momentum_28  support_29  resistance_29     shock_29  \\\n",
       "0     0.321429    -0.014716        -6.0           98.0 -5589.922285   \n",
       "1     0.321429    -0.015040       -14.0           90.0 -5597.960759   \n",
       "2     0.285714    -0.016777        -8.0           96.0 -5592.484031   \n",
       "3     0.285714    -0.016095        -6.0           92.0 -5591.507940   \n",
       "4     0.321429    -0.014011       -12.0           86.0 -5598.744025   \n",
       "5     0.321429    -0.014721        -4.0           94.0 -5591.644633   \n",
       "6     0.357143    -0.008787       -22.0           76.0 -5611.115484   \n",
       "7     0.357143    -0.009842       -16.0           82.0 -5605.787052   \n",
       "8     0.357143    -0.011256        -4.0           94.0 -5594.284165   \n",
       "9     0.321429    -0.014030        -4.0           94.0 -5594.783481   \n",
       "\n",
       "   up_count_29  momentum_29  \n",
       "0     0.344828    -0.011252  \n",
       "1     0.344828    -0.013315  \n",
       "2     0.310345    -0.016090  \n",
       "3     0.275862    -0.017127  \n",
       "4     0.310345    -0.015045  \n",
       "5     0.310345    -0.015412  \n",
       "6     0.344828    -0.011567  \n",
       "7     0.344828    -0.009842  \n",
       "8     0.344828    -0.011951  \n",
       "9     0.344828    -0.011256  \n",
       "\n",
       "[10 rows x 170 columns]"
      ]
     },
     "execution_count": 24,
     "metadata": {},
     "output_type": "execute_result"
    }
   ],
   "source": [
    "get_feature_df(ta_df).head(10)"
   ]
  },
  {
   "cell_type": "markdown",
   "id": "4e720887-d18c-4360-bc1f-ab9ef7bbaa9d",
   "metadata": {
    "jp-MarkdownHeadingCollapsed": true,
    "tags": []
   },
   "source": [
    "## analyse"
   ]
  },
  {
   "cell_type": "code",
   "execution_count": 132,
   "id": "5c63c5d3-f26d-45eb-8cbd-731701954f4d",
   "metadata": {},
   "outputs": [
    {
     "data": {
      "image/png": "[encoded data removed]",
      "text/plain": [
       "<Mpf_Figure size 1200x800 with 1 Axes>"
      ]
     },
     "metadata": {},
     "output_type": "display_data"
    }
   ],
   "source": [
    "\"\"\"\n",
    "https://blog.csdn.net/Shepherdppz/article/details/117575286\n",
    "\"\"\"\n",
    "import mplfinance as mpf\n",
    "def plot_candle(df):\n",
    "    df = deepcopy(df)\n",
    "    # 设置mplfinance的蜡烛颜色，up为阳线颜色，down为阴线颜色\n",
    "    my_color = mpf.make_marketcolors(up='r',\n",
    "                                     down='g',\n",
    "                                     edge='inherit',\n",
    "                                     wick='inherit',\n",
    "                                     volume='inherit')\n",
    "    # 设置图表的背景色\n",
    "    my_style = mpf.make_mpf_style(marketcolors=my_color,\n",
    "                                  figcolor='(0.82, 0.83, 0.85)',\n",
    "                                  gridcolor='(0.82, 0.83, 0.85)')\n",
    "\n",
    "\n",
    "    fig = mpf.figure(style=my_style, figsize=(12, 8), facecolor=(0.82, 0.83, 0.85))\n",
    "    # 添加三个图表，四个数字分别代表图表左下角在figure中的坐标，以及图表的宽（0.88）、高（0.60）\n",
    "    ax1 = fig.add_axes([0.06, 0.25, 0.88, 0.60])\n",
    "\n",
    "    # 读取的测试数据索引为字符串类型，需要转化为时间日期类型\n",
    "    df.index = pd.to_datetime(df.datetime)\n",
    "\n",
    "    # 通过ax=ax1参数指定把新的线条添加到ax1中，与K线图重叠\n",
    "    ap = mpf.make_addplot(df[['ma5', 'ma10', 'ma20']], ax=ax1)\n",
    "    \n",
    "    # 调用plot()方法，注意传递addplot=ap参数，以添加均线\n",
    "    mpf.plot(df,\n",
    "             ax=ax1,\n",
    "             addplot=ap,\n",
    "             type='candle',\n",
    "             style=my_style)\n",
    "\n",
    "    fig.show()\t\n",
    "    \n",
    "analyse = get_feature_df(dfs[\"MA0.czce\"])\n",
    "plot_candle(analyse.iloc[-300:])"
   ]
  },
  {
   "cell_type": "markdown",
   "id": "47577424-7ab5-4eb5-9038-8f06eba7250d",
   "metadata": {
    "tags": []
   },
   "source": [
    "## classification"
   ]
  },
  {
   "cell_type": "code",
   "execution_count": 54,
   "id": "c11d0223-e63f-41ae-b96a-f06fb8ec9ceb",
   "metadata": {},
   "outputs": [],
   "source": [
    "FUTURE = 10\n",
    "TASK = \"clf\""
   ]
  },
  {
   "cell_type": "code",
   "execution_count": 55,
   "id": "f15967e7-1271-4837-aabd-a0d54770188c",
   "metadata": {
    "tags": []
   },
   "outputs": [
    {
     "name": "stdout",
     "output_type": "stream",
     "text": [
      "480 481 (480, 135)\n"
     ]
    }
   ],
   "source": [
    "train_X, train_Y, valid_X, valid_Y, test_X, test_Y = [],[],[],[],[],[]\n",
    "\n",
    "# df = dfs[\"V0.dce\"]\n",
    "df = pd.concat([ta_df], axis=0)\n",
    "# df = pd.concat([dfs[\"TA0.czce\"],dfs[\"CF0.czce\"], dfs[\"OI0.czce\"], dfs[\"B0.dce\"], dfs[\"P0.dce\"],\n",
    "#                 dfs[\"V0.dce\"], dfs[\"Y0.dce\"], dfs[\"AL0.shfe\"], dfs[\"RB0.shfe\"], dfs[\"WR0.shfe\"]], axis=0)\n",
    "# df = pd.concat([dfs[key] for key in dfs.keys()], axis=0)\n",
    "\n",
    "df[\"datetime\"] = pd.to_datetime(ta_df[\"datetime\"])\n",
    "train_df = df.iloc[:int(df.shape[0] * 0.5),:].reset_index(drop=True)\n",
    "valid_df = df.iloc[int(df.shape[0] * 0.5):,:].reset_index(drop=True)\n",
    "\n",
    "train_data = get_feature_label(get_feature_df(train_df))\n",
    "valid_data = get_feature_label(get_feature_df(valid_df))\n",
    "\n",
    "print(len(train_data[0]), len(valid_data[0]), train_data[0].shape)"
   ]
  },
  {
   "cell_type": "markdown",
   "id": "afacf49f-8b15-4bd4-b533-f218bf3c90e5",
   "metadata": {
    "tags": []
   },
   "source": [
    "### fit"
   ]
  },
  {
   "cell_type": "code",
   "execution_count": 24,
   "id": "1016d0aa-8d02-459a-8807-696b089eddde",
   "metadata": {},
   "outputs": [],
   "source": [
    "from sklearn.metrics import precision_score, recall_score, classification_report, confusion_matrix, accuracy_score"
   ]
  },
  {
   "cell_type": "code",
   "execution_count": 49,
   "id": "489a3e27-a32a-494c-ae39-973cf89329a6",
   "metadata": {},
   "outputs": [
    {
     "name": "stdout",
     "output_type": "stream",
     "text": [
      "[[203  63]\n",
      " [ 92 122]]\n",
      "              precision    recall  f1-score   support\n",
      "\n",
      "           0       0.69      0.76      0.72       266\n",
      "           1       0.66      0.57      0.61       214\n",
      "\n",
      "    accuracy                           0.68       480\n",
      "   macro avg       0.67      0.67      0.67       480\n",
      "weighted avg       0.68      0.68      0.67       480\n",
      "\n"
     ]
    },
    {
     "data": {
      "text/plain": [
       "0.6770833333333334"
      ]
     },
     "execution_count": 49,
     "metadata": {},
     "output_type": "execute_result"
    }
   ],
   "source": [
    "from sklearn.linear_model import LogisticRegression\n",
    "clf = LogisticRegression(random_state=0)\n",
    "clf.fit(train_data[0], train_data[1])\n",
    "# clf.predict(valid_data[0]), valid_data[1]\n",
    "\n",
    "y_true, y_pred = train_data[1], clf.predict(train_data[0])\n",
    "print(confusion_matrix(y_true, y_pred))\n",
    "print(classification_report(y_true, y_pred))\n",
    "accuracy_score(clf.predict(train_data[0]), train_data[1])"
   ]
  },
  {
   "cell_type": "code",
   "execution_count": 50,
   "id": "96d034a7-1990-456a-b3f5-8cd963b22d73",
   "metadata": {},
   "outputs": [
    {
     "name": "stdout",
     "output_type": "stream",
     "text": [
      "[[140 117]\n",
      " [131  93]]\n",
      "              precision    recall  f1-score   support\n",
      "\n",
      "           0       0.52      0.54      0.53       257\n",
      "           1       0.44      0.42      0.43       224\n",
      "\n",
      "    accuracy                           0.48       481\n",
      "   macro avg       0.48      0.48      0.48       481\n",
      "weighted avg       0.48      0.48      0.48       481\n",
      "\n"
     ]
    },
    {
     "data": {
      "text/plain": [
       "0.48440748440748443"
      ]
     },
     "execution_count": 50,
     "metadata": {},
     "output_type": "execute_result"
    }
   ],
   "source": [
    "y_true, y_pred = valid_data[1], clf.predict(valid_data[0])\n",
    "print(confusion_matrix(y_true, y_pred))\n",
    "print(classification_report(y_true, y_pred))\n",
    "accuracy_score(clf.predict(valid_data[0]), valid_data[1])"
   ]
  },
  {
   "cell_type": "code",
   "execution_count": 56,
   "id": "28a34679-cdde-4dd9-bc80-3726127e7e7a",
   "metadata": {},
   "outputs": [
    {
     "name": "stdout",
     "output_type": "stream",
     "text": [
      "[[212  54]\n",
      " [ 74 140]]\n",
      "              precision    recall  f1-score   support\n",
      "\n",
      "           0       0.74      0.80      0.77       266\n",
      "           1       0.72      0.65      0.69       214\n",
      "\n",
      "    accuracy                           0.73       480\n",
      "   macro avg       0.73      0.73      0.73       480\n",
      "weighted avg       0.73      0.73      0.73       480\n",
      "\n"
     ]
    },
    {
     "data": {
      "text/plain": [
       "0.7333333333333333"
      ]
     },
     "execution_count": 56,
     "metadata": {},
     "output_type": "execute_result"
    }
   ],
   "source": [
    "from sklearn.ensemble import RandomForestClassifier\n",
    "\n",
    "clf = RandomForestClassifier(n_estimators=100,max_depth=2, random_state=0)\n",
    "clf.fit(train_data[0], train_data[1])\n",
    "\n",
    "y_true, y_pred = train_data[1], clf.predict(train_data[0])\n",
    "print(confusion_matrix(y_true, y_pred))\n",
    "print(classification_report(y_true, y_pred))\n",
    "accuracy_score(clf.predict(train_data[0]), train_data[1])\n"
   ]
  },
  {
   "cell_type": "code",
   "execution_count": 57,
   "id": "5c9049c5-a3b9-492c-92e3-3d19ceecdf9f",
   "metadata": {},
   "outputs": [
    {
     "name": "stdout",
     "output_type": "stream",
     "text": [
      "[[121 136]\n",
      " [ 75 149]]\n",
      "              precision    recall  f1-score   support\n",
      "\n",
      "           0       0.62      0.47      0.53       257\n",
      "           1       0.52      0.67      0.59       224\n",
      "\n",
      "    accuracy                           0.56       481\n",
      "   macro avg       0.57      0.57      0.56       481\n",
      "weighted avg       0.57      0.56      0.56       481\n",
      "\n"
     ]
    },
    {
     "data": {
      "text/plain": [
       "0.5613305613305614"
      ]
     },
     "execution_count": 57,
     "metadata": {},
     "output_type": "execute_result"
    }
   ],
   "source": [
    "y_true, y_pred = valid_data[1], clf.predict(valid_data[0])\n",
    "print(confusion_matrix(y_true, y_pred))\n",
    "print(classification_report(y_true, y_pred))\n",
    "accuracy_score(clf.predict(valid_data[0]), valid_data[1])"
   ]
  },
  {
   "cell_type": "code",
   "execution_count": null,
   "id": "aeb7c3c1-eb05-4dae-9c50-0d529edc97b9",
   "metadata": {},
   "outputs": [],
   "source": []
  },
  {
   "cell_type": "code",
   "execution_count": 58,
   "id": "ac3a2424-92de-4f25-8fed-c39174437e5b",
   "metadata": {},
   "outputs": [],
   "source": [
    "import pickle\n",
    "with open(\"D:/quant/checkpoint/clf_ta_5min.pickle\",\"wb\") as f:\n",
    "    pickle.dump(clf, f)"
   ]
  },
  {
   "cell_type": "code",
   "execution_count": 25,
   "id": "4d8af401-2d75-4516-9b2a-12482ec803ca",
   "metadata": {
    "collapsed": true,
    "jupyter": {
     "outputs_hidden": true
    },
    "tags": []
   },
   "outputs": [
    {
     "data": {
      "text/plain": [
       "array([[0.45098275, 0.54901725],\n",
       "       [0.45098275, 0.54901725],\n",
       "       [0.45098275, 0.54901725],\n",
       "       [0.44950701, 0.55049299],\n",
       "       [0.45098275, 0.54901725],\n",
       "       [0.44950701, 0.55049299],\n",
       "       [0.45098275, 0.54901725],\n",
       "       [0.45098275, 0.54901725],\n",
       "       [0.45098275, 0.54901725],\n",
       "       [0.45098275, 0.54901725],\n",
       "       [0.45098275, 0.54901725],\n",
       "       [0.45098275, 0.54901725],\n",
       "       [0.45098275, 0.54901725],\n",
       "       [0.45098275, 0.54901725],\n",
       "       [0.45098275, 0.54901725],\n",
       "       [0.44940218, 0.55059782],\n",
       "       [0.47575813, 0.52424187],\n",
       "       [0.50012085, 0.49987915],\n",
       "       [0.47255138, 0.52744862],\n",
       "       [0.49171191, 0.50828809],\n",
       "       [0.47297603, 0.52702397],\n",
       "       [0.46139587, 0.53860413],\n",
       "       [0.50539015, 0.49460985],\n",
       "       [0.49662493, 0.50337507],\n",
       "       [0.52468861, 0.47531139],\n",
       "       [0.51105463, 0.48894537],\n",
       "       [0.51479714, 0.48520286],\n",
       "       [0.52129716, 0.47870284],\n",
       "       [0.5278632 , 0.4721368 ],\n",
       "       [0.5313396 , 0.4686604 ],\n",
       "       [0.52213045, 0.47786955],\n",
       "       [0.52687458, 0.47312542],\n",
       "       [0.52739355, 0.47260645],\n",
       "       [0.52698095, 0.47301905],\n",
       "       [0.55335931, 0.44664069],\n",
       "       [0.55866325, 0.44133675],\n",
       "       [0.57520541, 0.42479459],\n",
       "       [0.57049061, 0.42950939],\n",
       "       [0.58406663, 0.41593337],\n",
       "       [0.58514868, 0.41485132],\n",
       "       [0.58953013, 0.41046987],\n",
       "       [0.60281842, 0.39718158],\n",
       "       [0.61144241, 0.38855759],\n",
       "       [0.62854608, 0.37145392],\n",
       "       [0.62933639, 0.37066361],\n",
       "       [0.63079645, 0.36920355],\n",
       "       [0.63079645, 0.36920355],\n",
       "       [0.62932703, 0.37067297],\n",
       "       [0.61893575, 0.38106425],\n",
       "       [0.61208454, 0.38791546],\n",
       "       [0.60663113, 0.39336887],\n",
       "       [0.61412394, 0.38587606],\n",
       "       [0.62058046, 0.37941954],\n",
       "       [0.62132781, 0.37867219],\n",
       "       [0.62369511, 0.37630489],\n",
       "       [0.62669481, 0.37330519],\n",
       "       [0.62669481, 0.37330519],\n",
       "       [0.62669481, 0.37330519],\n",
       "       [0.63209893, 0.36790107],\n",
       "       [0.62163445, 0.37836555],\n",
       "       [0.63311721, 0.36688279],\n",
       "       [0.6299847 , 0.3700153 ],\n",
       "       [0.63442132, 0.36557868],\n",
       "       [0.63868428, 0.36131572],\n",
       "       [0.6415745 , 0.3584255 ],\n",
       "       [0.62499982, 0.37500018],\n",
       "       [0.61757904, 0.38242096],\n",
       "       [0.60568646, 0.39431354],\n",
       "       [0.61440817, 0.38559183],\n",
       "       [0.60726638, 0.39273362],\n",
       "       [0.60444767, 0.39555233],\n",
       "       [0.59726517, 0.40273483],\n",
       "       [0.621779  , 0.378221  ],\n",
       "       [0.60601493, 0.39398507],\n",
       "       [0.6082499 , 0.3917501 ],\n",
       "       [0.62047271, 0.37952729],\n",
       "       [0.61629769, 0.38370231],\n",
       "       [0.63213074, 0.36786926],\n",
       "       [0.62581692, 0.37418308],\n",
       "       [0.62914224, 0.37085776],\n",
       "       [0.6206753 , 0.3793247 ],\n",
       "       [0.62919504, 0.37080496],\n",
       "       [0.61934947, 0.38065053],\n",
       "       [0.62507394, 0.37492606],\n",
       "       [0.6062821 , 0.3937179 ],\n",
       "       [0.62374964, 0.37625036],\n",
       "       [0.62074661, 0.37925339],\n",
       "       [0.62147467, 0.37852533],\n",
       "       [0.61713538, 0.38286462],\n",
       "       [0.5709577 , 0.4290423 ],\n",
       "       [0.57354552, 0.42645448],\n",
       "       [0.61462155, 0.38537845],\n",
       "       [0.60457418, 0.39542582],\n",
       "       [0.6083632 , 0.3916368 ],\n",
       "       [0.60889132, 0.39110868],\n",
       "       [0.60204497, 0.39795503],\n",
       "       [0.57277375, 0.42722625],\n",
       "       [0.58167589, 0.41832411],\n",
       "       [0.60678104, 0.39321896],\n",
       "       [0.60234472, 0.39765528],\n",
       "       [0.60018355, 0.39981645],\n",
       "       [0.60017575, 0.39982425],\n",
       "       [0.61410704, 0.38589296],\n",
       "       [0.5622163 , 0.4377837 ],\n",
       "       [0.61045198, 0.38954802],\n",
       "       [0.6014582 , 0.3985418 ],\n",
       "       [0.56857663, 0.43142337],\n",
       "       [0.55225128, 0.44774872],\n",
       "       [0.45225665, 0.54774335],\n",
       "       [0.5275657 , 0.4724343 ],\n",
       "       [0.52944247, 0.47055753],\n",
       "       [0.56051656, 0.43948344],\n",
       "       [0.54596353, 0.45403647],\n",
       "       [0.56591196, 0.43408804],\n",
       "       [0.47815566, 0.52184434],\n",
       "       [0.41954808, 0.58045192],\n",
       "       [0.46867463, 0.53132537],\n",
       "       [0.48865805, 0.51134195],\n",
       "       [0.43715076, 0.56284924],\n",
       "       [0.47642965, 0.52357035],\n",
       "       [0.50430761, 0.49569239],\n",
       "       [0.45622927, 0.54377073],\n",
       "       [0.49280541, 0.50719459],\n",
       "       [0.49877707, 0.50122293],\n",
       "       [0.47436166, 0.52563834],\n",
       "       [0.49210524, 0.50789476],\n",
       "       [0.46934958, 0.53065042],\n",
       "       [0.41778825, 0.58221175],\n",
       "       [0.3991421 , 0.6008579 ],\n",
       "       [0.40629955, 0.59370045],\n",
       "       [0.39752562, 0.60247438],\n",
       "       [0.39752562, 0.60247438],\n",
       "       [0.40637087, 0.59362913],\n",
       "       [0.40021376, 0.59978624],\n",
       "       [0.49942225, 0.50057775],\n",
       "       [0.51234525, 0.48765475],\n",
       "       [0.50507321, 0.49492679],\n",
       "       [0.52984143, 0.47015857],\n",
       "       [0.56254364, 0.43745636],\n",
       "       [0.57749615, 0.42250385],\n",
       "       [0.54498299, 0.45501701],\n",
       "       [0.55074782, 0.44925218],\n",
       "       [0.52839225, 0.47160775],\n",
       "       [0.50982332, 0.49017668],\n",
       "       [0.51063258, 0.48936742],\n",
       "       [0.50769171, 0.49230829],\n",
       "       [0.5198025 , 0.4801975 ],\n",
       "       [0.53009313, 0.46990687],\n",
       "       [0.5337482 , 0.4662518 ],\n",
       "       [0.51095762, 0.48904238],\n",
       "       [0.48706075, 0.51293925],\n",
       "       [0.47907143, 0.52092857],\n",
       "       [0.47142764, 0.52857236]])"
      ]
     },
     "execution_count": 25,
     "metadata": {},
     "output_type": "execute_result"
    }
   ],
   "source": [
    "clf.predict_proba(valid_data[0])"
   ]
  },
  {
   "cell_type": "code",
   "execution_count": 46,
   "id": "e3b2e77a-1881-4be5-a032-a69e16f3aa9e",
   "metadata": {},
   "outputs": [
    {
     "data": {
      "text/plain": [
       "array([1, 1, 1, 1, 1, 1, 1, 1, 1, 1, 1, 1, 1, 1, 1, 1, 1, 1, 1, 1, 0, 0,\n",
       "       1, 1, 1, 1, 1, 0, 1, 1, 0, 0, 1, 0, 0, 0, 0, 1, 1, 1, 1, 1, 1, 0,\n",
       "       0, 0, 0, 0, 1, 1, 1, 1, 1, 1, 1, 1, 1, 1, 0, 1, 1, 0, 0, 0, 0, 0,\n",
       "       1, 1, 0, 0, 0, 1, 0, 0, 0, 0, 0, 1, 1, 0, 0, 0, 0, 0, 0, 0, 0, 0,\n",
       "       0, 1, 1, 0, 0, 0, 0, 0, 1, 0, 0, 0, 0, 0, 0, 0, 0, 0, 0, 0, 0, 0,\n",
       "       0, 0, 0, 0, 0, 0, 0, 0, 0, 0, 1, 0, 1, 1, 1, 1, 1, 0, 0, 0, 0, 0,\n",
       "       0, 0, 0, 0, 0, 0, 1, 1, 0, 0, 0, 0, 0, 0, 0, 0, 0, 0, 0],\n",
       "      dtype=int64)"
      ]
     },
     "execution_count": 46,
     "metadata": {},
     "output_type": "execute_result"
    }
   ],
   "source": [
    "valid_data[1]"
   ]
  },
  {
   "cell_type": "markdown",
   "id": "c904bd2c-d7e5-47fb-a252-5024961f25b3",
   "metadata": {
    "jp-MarkdownHeadingCollapsed": true,
    "tags": []
   },
   "source": [
    "## regression"
   ]
  },
  {
   "cell_type": "code",
   "execution_count": 450,
   "id": "069f23eb-9fa0-4ad2-bc30-a60828e2724e",
   "metadata": {},
   "outputs": [],
   "source": [
    "TASK = \"reg\""
   ]
  },
  {
   "cell_type": "code",
   "execution_count": 451,
   "id": "a052653c-30be-423c-8e43-36fb3ad2a075",
   "metadata": {},
   "outputs": [
    {
     "name": "stdout",
     "output_type": "stream",
     "text": [
      "1544 89 104 (1544, 57)\n"
     ]
    }
   ],
   "source": [
    "train_X, train_Y, valid_X, valid_Y, test_X, test_Y = [],[],[],[],[],[]\n",
    "\n",
    "df = dfs[\"MA0.czce\"]\n",
    "# df = get_feature_df(df)\n",
    "train_df = df[df[\"datetime\"] < '2021-07-01'].reset_index(drop=True)\n",
    "valid_df = df[(df[\"datetime\"] > \"2021-07-01\") & (df[\"datetime\"] < \"2022-01-01\")].reset_index(drop=True)\n",
    "test_df = df[df[\"datetime\"] > \"2022-01-01\"].reset_index(drop=True)\n",
    "\n",
    "train_data = get_feature_label(get_feature_df(train_df))\n",
    "valid_data = get_feature_label(get_feature_df(valid_df))\n",
    "test_data = get_feature_label(get_feature_df(test_df))\n",
    "\n",
    "print(len(train_data[0]), len(valid_data[0]), len(test_data[0]), train_data[0].shape)"
   ]
  },
  {
   "cell_type": "code",
   "execution_count": 452,
   "id": "6d877788-4582-4dcd-a1db-b1e285679818",
   "metadata": {},
   "outputs": [],
   "source": [
    "from sklearn.metrics import mean_squared_error"
   ]
  },
  {
   "cell_type": "code",
   "execution_count": 453,
   "id": "e3203907-f7a3-49b4-88cf-6cb2948a9316",
   "metadata": {},
   "outputs": [
    {
     "data": {
      "text/plain": [
       "64.91751462398756"
      ]
     },
     "execution_count": 453,
     "metadata": {},
     "output_type": "execute_result"
    }
   ],
   "source": [
    "from sklearn.linear_model import LinearRegression\n",
    "reg = LinearRegression().fit(train_data[0], train_data[1])\n",
    "reg.predict(valid_data[0])\n",
    "mean_squared_error(valid_data[1], reg.predict(valid_data[0]))"
   ]
  },
  {
   "cell_type": "code",
   "execution_count": 454,
   "id": "2aabd47f-df9b-494e-a321-21e2a0d6e1e3",
   "metadata": {},
   "outputs": [
    {
     "data": {
      "text/plain": [
       "7.890115664766683"
      ]
     },
     "execution_count": 454,
     "metadata": {},
     "output_type": "execute_result"
    }
   ],
   "source": [
    "from sklearn.ensemble import RandomForestRegressor\n",
    "rf_reg = RandomForestRegressor(max_depth=6, random_state=0)\n",
    "rf_reg.fit(train_data[0], train_data[1])\n",
    "rf_reg.predict(valid_data[0])\n",
    "mean_squared_error(valid_data[1], rf_reg.predict(valid_data[0]))"
   ]
  },
  {
   "cell_type": "markdown",
   "id": "ef30dd5d-29b5-45de-b8f7-43202039f71c",
   "metadata": {
    "jp-MarkdownHeadingCollapsed": true,
    "tags": []
   },
   "source": [
    "## plot"
   ]
  },
  {
   "cell_type": "code",
   "execution_count": 1057,
   "id": "d42e28d0-92d7-4d4f-a14d-97ca75f616d2",
   "metadata": {},
   "outputs": [
    {
     "data": {
      "image/png": "[encoded data removed]",
      "text/plain": [
       "<Figure size 1500x500 with 1 Axes>"
      ]
     },
     "metadata": {},
     "output_type": "display_data"
    },
    {
     "name": "stdout",
     "output_type": "stream",
     "text": [
      "0.003\n"
     ]
    }
   ],
   "source": [
    "import matplotlib.pyplot as plt\n",
    "\n",
    "def evaluate(model, data, label):\n",
    "    fig = plt.figure(figsize = (15,5))\n",
    "    # plt.plot(label, label=\"true\")\n",
    "    plt.scatter(range(len(label)), label, label=\"true\")\n",
    "    preds = model.predict(data)\n",
    "    # plt.plot(preds, label=\"pred\")\n",
    "    plt.scatter(range(len(preds)), preds, label=\"pred\")\n",
    "    plt.legend()\n",
    "    plt.show()\n",
    "    \n",
    "    print(np.mean((preds - label)**2))\n",
    "\n",
    "evaluate(clf, train_data[0][:1000], train_data[1][:1000])"
   ]
  },
  {
   "cell_type": "code",
   "execution_count": 1058,
   "id": "3f948205-1245-4402-b51a-f0720be135ef",
   "metadata": {},
   "outputs": [
    {
     "data": {
      "image/png": "[encoded data removed]",
      "text/plain": [
       "<Figure size 1500x500 with 1 Axes>"
      ]
     },
     "metadata": {},
     "output_type": "display_data"
    },
    {
     "name": "stdout",
     "output_type": "stream",
     "text": [
      "0.25842696629213485\n"
     ]
    }
   ],
   "source": [
    "evaluate(clf, valid_data[0], valid_data[1])"
   ]
  },
  {
   "cell_type": "code",
   "execution_count": 1119,
   "id": "369c4dd1-f29e-42d9-ae56-54c92af5cec5",
   "metadata": {},
   "outputs": [
    {
     "data": {
      "image/png": "[encoded data removed]",
      "text/plain": [
       "<Figure size 1500x500 with 1 Axes>"
      ]
     },
     "metadata": {},
     "output_type": "display_data"
    },
    {
     "name": "stdout",
     "output_type": "stream",
     "text": [
      "0.16346153846153846\n"
     ]
    }
   ],
   "source": [
    "evaluate(clf, test_data[0], test_data[1])"
   ]
  },
  {
   "cell_type": "markdown",
   "id": "d3cd9e86-4b35-4ef5-9354-97538dcd0c84",
   "metadata": {
    "tags": []
   },
   "source": [
    "## plot buy/sell"
   ]
  },
  {
   "cell_type": "code",
   "execution_count": 90,
   "id": "c8f143d0-8e4e-436e-baec-9807ee292d1c",
   "metadata": {},
   "outputs": [
    {
     "data": {
      "image/png": "[encoded data removed]",
      "text/plain": [
       "<Figure size 1500x500 with 1 Axes>"
      ]
     },
     "metadata": {},
     "output_type": "display_data"
    }
   ],
   "source": [
    "import matplotlib.pyplot as plt\n",
    "\n",
    "FUTURE = 20\n",
    "\n",
    "analyse_df = get_feature_df(valid_df)\n",
    "\n",
    "states_buy, states_sell = [],[]\n",
    "for i in range(len(analyse_df)):\n",
    "    if analyse_df.loc[i,\"label\"] == 1:\n",
    "        states_buy.append(i)\n",
    "    else:\n",
    "        states_sell.append(i)\n",
    "        \n",
    "close = analyse_df['close']\n",
    "fig = plt.figure(figsize = (15,5))\n",
    "plt.plot(close, color='r', lw=2.)\n",
    "plt.plot(close, '^', markersize=10, color='m', label = 'buying signal', markevery = states_buy)\n",
    "plt.plot(close, 'v', markersize=10, color='k', label = 'selling signal', markevery = states_sell)\n",
    "plt.title('real buy/sell signal')\n",
    "plt.legend()\n",
    "plt.show()"
   ]
  },
  {
   "cell_type": "code",
   "execution_count": 89,
   "id": "01a06bcd-4da0-4b1f-a560-1cd50743c35f",
   "metadata": {},
   "outputs": [
    {
     "ename": "NameError",
     "evalue": "name 'test_df' is not defined",
     "output_type": "error",
     "traceback": [
      "\u001b[1;31m---------------------------------------------------------------------------\u001b[0m",
      "\u001b[1;31mNameError\u001b[0m                                 Traceback (most recent call last)",
      "Input \u001b[1;32mIn [89]\u001b[0m, in \u001b[0;36m<cell line: 1>\u001b[1;34m()\u001b[0m\n\u001b[1;32m----> 1\u001b[0m analyse_df \u001b[38;5;241m=\u001b[39m get_feature_df(\u001b[43mtest_df\u001b[49m)\n\u001b[0;32m      3\u001b[0m features, labels \u001b[38;5;241m=\u001b[39m get_feature_label(analyse_df)\n\u001b[0;32m      4\u001b[0m preds \u001b[38;5;241m=\u001b[39m clf\u001b[38;5;241m.\u001b[39mpredict_proba(features)[:,\u001b[38;5;241m1\u001b[39m]\n",
      "\u001b[1;31mNameError\u001b[0m: name 'test_df' is not defined"
     ]
    }
   ],
   "source": [
    "analyse_df = get_feature_df(test_df)\n",
    "\n",
    "features, labels = get_feature_label(analyse_df)\n",
    "preds = clf.predict_proba(features)[:,1]\n",
    "\n",
    "states_buy, states_sell = [],[]\n",
    "for i in range(len(features)):\n",
    "    if preds[i] > 0.5:\n",
    "        states_buy.append(i)\n",
    "    elif preds[i] < 0.5:\n",
    "        states_sell.append(i)\n",
    "        \n",
    "close = analyse_df['close']\n",
    "fig = plt.figure(figsize = (15,5))\n",
    "plt.plot(close, color='r', lw=2.)\n",
    "plt.plot(close, '^', markersize=10, color='m', label = 'buying signal', markevery = states_buy)\n",
    "plt.plot(close, 'v', markersize=10, color='k', label = 'selling signal', markevery = states_sell)\n",
    "plt.title('predict buy/sell signal')\n",
    "plt.legend()\n",
    "plt.show()"
   ]
  },
  {
   "cell_type": "code",
   "execution_count": 112,
   "id": "396dbdf6-92a6-4539-b743-464c1d81a2cb",
   "metadata": {},
   "outputs": [
    {
     "name": "stdout",
     "output_type": "stream",
     "text": [
      "label -> open: -0.2517573014704094\n",
      "label -> high: -0.2520370539795085\n",
      "label -> low: -0.24350035593784805\n",
      "label -> close: -0.24856394258211545\n",
      "label -> volume: -0.11098627364778779\n",
      "label -> label: 1.0\n",
      "label -> ma3: -0.26009271833889813\n",
      "label -> ma3_close: -0.031065141098889006\n",
      "label -> ma5: -0.24996488844589812\n",
      "label -> ma5_close: 0.017378338659659435\n",
      "label -> ma8: -0.220353288227354\n",
      "label -> ma8_close: 0.08342037161146418\n",
      "label -> ma10: -0.19536149629295718\n",
      "label -> ma10_close: 0.12439686823937182\n",
      "label -> ma15: -0.1834910919425158\n",
      "label -> ma15_close: 0.12842030325292586\n",
      "label -> ma20: -0.21810923041508368\n",
      "label -> ma20_close: 0.06969088928716245\n",
      "label -> ma3-5: -0.07807430082735245\n",
      "label -> ma3-8: -0.13987696769731936\n",
      "label -> ma3-10: -0.17854225943720348\n",
      "label -> ma3-15: -0.16360067903605788\n",
      "label -> ma3-20: -0.08947802929745072\n",
      "label -> ma5-8: -0.16728893778560253\n",
      "label -> ma5-10: -0.20543256686488504\n",
      "label -> ma5-15: -0.1676068638880558\n",
      "label -> ma5-20: -0.07894664310293001\n",
      "label -> ma8-10: -0.2319575237726739\n",
      "label -> ma8-15: -0.1362216764988565\n",
      "label -> ma8-20: -0.026910261177599766\n",
      "label -> ma10-15: -0.07261100822732065\n",
      "label -> ma10-20: 0.038284806889886544\n",
      "label -> ma15-20: 0.16659595487891835\n",
      "label -> support_3: -0.2485248843640867\n",
      "label -> resistance_3: -0.26018238274320477\n",
      "label -> shock_3: -0.030173697956271398\n",
      "label -> support_5: -0.21713791448734057\n",
      "label -> resistance_5: -0.26937131239852696\n",
      "label -> shock_5: -0.1587063556321652\n",
      "label -> support_8: -0.16189147143994997\n",
      "label -> resistance_8: -0.2548116474317677\n",
      "label -> shock_8: -0.23974812893647252\n",
      "label -> support_10: -0.13918787188091833\n",
      "label -> resistance_10: -0.23038075666280883\n",
      "label -> shock_10: -0.2396261523414399\n",
      "label -> support_15: -0.13945292013307353\n",
      "label -> resistance_15: -0.2664103032239514\n",
      "label -> shock_15: -0.28825513013004717\n",
      "label -> support_20: -0.23500575700026277\n",
      "label -> resistance_20: -0.3094113716701479\n",
      "label -> shock_20: -0.22236810466013407\n"
     ]
    }
   ],
   "source": [
    "for col in analyse_df.columns[1:]:\n",
    "    print(f\"label -> {col}:\", analyse_df.label.corr(analyse_df[col]))"
   ]
  },
  {
   "cell_type": "code",
   "execution_count": null,
   "id": "c1550c9e-f7da-4688-a4bd-a6ada7cc8f99",
   "metadata": {},
   "outputs": [],
   "source": []
  }
 ],
 "metadata": {
  "kernelspec": {
   "display_name": "Python 3 (ipykernel)",
   "language": "python",
   "name": "python3"
  },
  "language_info": {
   "codemirror_mode": {
    "name": "ipython",
    "version": 3
   },
   "file_extension": ".py",
   "mimetype": "text/x-python",
   "name": "python",
   "nbconvert_exporter": "python",
   "pygments_lexer": "ipython3",
   "version": "3.9.12"
  }
 },
 "nbformat": 4,
 "nbformat_minor": 5
}
