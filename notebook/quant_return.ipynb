{
 "cells": [
  {
   "cell_type": "code",
   "execution_count": 24,
   "id": "b46b8653-d491-4a13-8a1c-20e1a2b31345",
   "metadata": {},
   "outputs": [
    {
     "name": "stdout",
     "output_type": "stream",
     "text": [
      "(1396591.0511342753, 20888.249581294607, 31868090.47236407)\n"
     ]
    }
   ],
   "source": [
    "import random\n",
    "\n",
    "def simulate_return(win_prob, win_return, loss_return, initial_capital, num_trials):\n",
    "    results = []\n",
    "    for i in range(num_trials):\n",
    "        capital = initial_capital\n",
    "        for j in range(200):\n",
    "            if random.random() < win_prob:\n",
    "                capital += capital * win_return\n",
    "            else:\n",
    "                capital -= capital * loss_return\n",
    "        results.append(capital)\n",
    "    return results \n",
    "\n",
    "win_prob = 0.5\n",
    "win_return = 0.1\n",
    "loss_return = 0.05\n",
    "initial_capital = 10000\n",
    "num_trials = 10000\n",
    "\n",
    "results = simulate_return(win_prob, win_return, loss_return, initial_capital, num_trials)\n",
    "average_return = sum(results) / num_trials ,min(results), max(results)\n",
    "print(average_return)\n"
   ]
  },
  {
   "cell_type": "code",
   "execution_count": 25,
   "id": "61ec7de2-5ab0-44d6-a348-332269f42c1d",
   "metadata": {},
   "outputs": [
    {
     "name": "stdout",
     "output_type": "stream",
     "text": [
      "Expected return: 1.02\n"
     ]
    },
    {
     "data": {
      "text/plain": [
       "1395638.9402335163"
      ]
     },
     "execution_count": 25,
     "metadata": {},
     "output_type": "execute_result"
    }
   ],
   "source": [
    "import numpy as np\n",
    "\n",
    "profit_ratio = 1+win_return\n",
    "loss_ratio = 1-loss_return\n",
    "\n",
    "expected_return = win_prob * profit_ratio + (1-win_prob) * loss_ratio\n",
    "\n",
    "print(\"Expected return: {:.2f}\".format(expected_return))\n",
    "expected_return ** 200 * 10000"
   ]
  },
  {
   "cell_type": "code",
   "execution_count": 9,
   "id": "69a282cd-99d3-4afa-a3ab-68b3eaca45b9",
   "metadata": {},
   "outputs": [
    {
     "data": {
      "image/png": "[encoded data removed]",
      "text/plain": [
       "<Figure size 640x480 with 1 Axes>"
      ]
     },
     "metadata": {},
     "output_type": "display_data"
    }
   ],
   "source": [
    "import matplotlib.pyplot as plt\n",
    "\n",
    "plt.hist(results)\n",
    "plt.show()"
   ]
  },
  {
   "cell_type": "code",
   "execution_count": 38,
   "id": "5384b7c5-46da-4d98-ab00-500cc4547972",
   "metadata": {},
   "outputs": [
    {
     "data": {
      "text/plain": [
       "7.244646118252348"
      ]
     },
     "execution_count": 38,
     "metadata": {},
     "output_type": "execute_result"
    }
   ],
   "source": [
    "10000*1.02 ** 100"
   ]
  },
  {
   "cell_type": "code",
   "execution_count": null,
   "id": "4d9bea29-5aa9-432b-b074-f4c26cb576f0",
   "metadata": {},
   "outputs": [],
   "source": []
  }
 ],
 "metadata": {
  "kernelspec": {
   "display_name": "Python 3 (ipykernel)",
   "language": "python",
   "name": "python3"
  },
  "language_info": {
   "codemirror_mode": {
    "name": "ipython",
    "version": 3
   },
   "file_extension": ".py",
   "mimetype": "text/x-python",
   "name": "python",
   "nbconvert_exporter": "python",
   "pygments_lexer": "ipython3",
   "version": "3.9.13"
  }
 },
 "nbformat": 4,
 "nbformat_minor": 5
}
